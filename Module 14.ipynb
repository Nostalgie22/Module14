{
 "cells": [
  {
   "cell_type": "code",
   "execution_count": 124,
   "id": "5ca01401-bac3-41ff-b2cc-06f482e9a48c",
   "metadata": {},
   "outputs": [],
   "source": [
    "# Import required libraries\n",
    "import pandas as pd\n",
    "import numpy as np\n",
    "from pathlib import Path\n",
    "import hvplot.pandas"
   ]
  },
  {
   "cell_type": "code",
   "execution_count": 125,
   "id": "a0038abf-b5ba-4e61-9a60-8c78768088f2",
   "metadata": {},
   "outputs": [],
   "source": [
    "# Read the OHLCV.csv file from the Resources folder into a Pandas DataFrame\n",
    "# Set the `Date` column as the DateTimeIndex\n",
    "ohlcv_path = Path(\"emerging_markets_ohlcv.csv\")\n",
    "\n"
   ]
  },
  {
   "cell_type": "code",
   "execution_count": 126,
   "id": "917f658b-8152-4024-bb8e-2d68c2ab4b9e",
   "metadata": {},
   "outputs": [
    {
     "data": {
      "text/html": [
       "<div>\n",
       "<style scoped>\n",
       "    .dataframe tbody tr th:only-of-type {\n",
       "        vertical-align: middle;\n",
       "    }\n",
       "\n",
       "    .dataframe tbody tr th {\n",
       "        vertical-align: top;\n",
       "    }\n",
       "\n",
       "    .dataframe thead th {\n",
       "        text-align: right;\n",
       "    }\n",
       "</style>\n",
       "<table border=\"1\" class=\"dataframe\">\n",
       "  <thead>\n",
       "    <tr style=\"text-align: right;\">\n",
       "      <th></th>\n",
       "      <th>open</th>\n",
       "      <th>high</th>\n",
       "      <th>low</th>\n",
       "      <th>close</th>\n",
       "      <th>volume</th>\n",
       "    </tr>\n",
       "    <tr>\n",
       "      <th>date</th>\n",
       "      <th></th>\n",
       "      <th></th>\n",
       "      <th></th>\n",
       "      <th></th>\n",
       "      <th></th>\n",
       "    </tr>\n",
       "  </thead>\n",
       "  <tbody>\n",
       "    <tr>\n",
       "      <th>2015-01-21 09:30:00</th>\n",
       "      <td>23.83</td>\n",
       "      <td>23.83</td>\n",
       "      <td>23.83</td>\n",
       "      <td>23.83</td>\n",
       "      <td>100</td>\n",
       "    </tr>\n",
       "    <tr>\n",
       "      <th>2015-01-21 11:00:00</th>\n",
       "      <td>23.98</td>\n",
       "      <td>23.98</td>\n",
       "      <td>23.98</td>\n",
       "      <td>23.98</td>\n",
       "      <td>100</td>\n",
       "    </tr>\n",
       "    <tr>\n",
       "      <th>2015-01-22 15:00:00</th>\n",
       "      <td>24.42</td>\n",
       "      <td>24.42</td>\n",
       "      <td>24.42</td>\n",
       "      <td>24.42</td>\n",
       "      <td>100</td>\n",
       "    </tr>\n",
       "    <tr>\n",
       "      <th>2015-01-22 15:15:00</th>\n",
       "      <td>24.42</td>\n",
       "      <td>24.44</td>\n",
       "      <td>24.42</td>\n",
       "      <td>24.44</td>\n",
       "      <td>200</td>\n",
       "    </tr>\n",
       "    <tr>\n",
       "      <th>2015-01-22 15:30:00</th>\n",
       "      <td>24.46</td>\n",
       "      <td>24.46</td>\n",
       "      <td>24.46</td>\n",
       "      <td>24.46</td>\n",
       "      <td>200</td>\n",
       "    </tr>\n",
       "  </tbody>\n",
       "</table>\n",
       "</div>"
      ],
      "text/plain": [
       "                      open   high    low  close  volume\n",
       "date                                                   \n",
       "2015-01-21 09:30:00  23.83  23.83  23.83  23.83     100\n",
       "2015-01-21 11:00:00  23.98  23.98  23.98  23.98     100\n",
       "2015-01-22 15:00:00  24.42  24.42  24.42  24.42     100\n",
       "2015-01-22 15:15:00  24.42  24.44  24.42  24.44     200\n",
       "2015-01-22 15:30:00  24.46  24.46  24.46  24.46     200"
      ]
     },
     "execution_count": 126,
     "metadata": {},
     "output_type": "execute_result"
    }
   ],
   "source": [
    "ohlcv_df = pd.read_csv(ohlcv_path, index_col=\"date\", infer_datetime_format=True, parse_dates=True)\n",
    "ohlcv_df = ohlcv_df.sort_index()\n",
    "ohlcv_df.head()"
   ]
  },
  {
   "cell_type": "code",
   "execution_count": 127,
   "id": "4c0af19a-6201-41d7-9460-3e130b4036bb",
   "metadata": {},
   "outputs": [
    {
     "data": {
      "text/html": [
       "<div>\n",
       "<style scoped>\n",
       "    .dataframe tbody tr th:only-of-type {\n",
       "        vertical-align: middle;\n",
       "    }\n",
       "\n",
       "    .dataframe tbody tr th {\n",
       "        vertical-align: top;\n",
       "    }\n",
       "\n",
       "    .dataframe thead th {\n",
       "        text-align: right;\n",
       "    }\n",
       "</style>\n",
       "<table border=\"1\" class=\"dataframe\">\n",
       "  <thead>\n",
       "    <tr style=\"text-align: right;\">\n",
       "      <th></th>\n",
       "      <th>close</th>\n",
       "    </tr>\n",
       "    <tr>\n",
       "      <th>date</th>\n",
       "      <th></th>\n",
       "    </tr>\n",
       "  </thead>\n",
       "  <tbody>\n",
       "    <tr>\n",
       "      <th>2015-01-21 09:30:00</th>\n",
       "      <td>23.83</td>\n",
       "    </tr>\n",
       "    <tr>\n",
       "      <th>2015-01-21 11:00:00</th>\n",
       "      <td>23.98</td>\n",
       "    </tr>\n",
       "    <tr>\n",
       "      <th>2015-01-22 15:00:00</th>\n",
       "      <td>24.42</td>\n",
       "    </tr>\n",
       "    <tr>\n",
       "      <th>2015-01-22 15:15:00</th>\n",
       "      <td>24.44</td>\n",
       "    </tr>\n",
       "    <tr>\n",
       "      <th>2015-01-22 15:30:00</th>\n",
       "      <td>24.46</td>\n",
       "    </tr>\n",
       "  </tbody>\n",
       "</table>\n",
       "</div>"
      ],
      "text/plain": [
       "                     close\n",
       "date                      \n",
       "2015-01-21 09:30:00  23.83\n",
       "2015-01-21 11:00:00  23.98\n",
       "2015-01-22 15:00:00  24.42\n",
       "2015-01-22 15:15:00  24.44\n",
       "2015-01-22 15:30:00  24.46"
      ]
     },
     "execution_count": 127,
     "metadata": {},
     "output_type": "execute_result"
    }
   ],
   "source": [
    "# Filter the date index and close columns\n",
    "signals_df = ohlcv_df.loc[:,[\"close\"]]\n",
    "\n",
    "# Review the DataFrame\n",
    "signals_df.head()"
   ]
  },
  {
   "cell_type": "code",
   "execution_count": 128,
   "id": "2f2ccff9-f4a8-4055-951b-6fd8c2f377d2",
   "metadata": {},
   "outputs": [
    {
     "data": {},
     "metadata": {},
     "output_type": "display_data"
    },
    {
     "data": {
      "application/vnd.holoviews_exec.v0+json": "",
      "text/html": [
       "<div id='1188'>\n",
       "  <div class=\"bk-root\" id=\"358f0523-6cc0-41f8-b14d-32b5b81a863f\" data-root-id=\"1188\"></div>\n",
       "</div>\n",
       "<script type=\"application/javascript\">(function(root) {\n",
       "  function embed_document(root) {\n",
       "    var docs_json = {\"fad1076d-630c-4baf-b248-3ec4a8cbadb9\":{\"defs\":[{\"extends\":null,\"module\":null,\"name\":\"ReactiveHTML1\",\"overrides\":[],\"properties\":[]},{\"extends\":null,\"module\":null,\"name\":\"FlexBox1\",\"overrides\":[],\"properties\":[{\"default\":\"flex-start\",\"kind\":null,\"name\":\"align_content\"},{\"default\":\"flex-start\",\"kind\":null,\"name\":\"align_items\"},{\"default\":\"row\",\"kind\":null,\"name\":\"flex_direction\"},{\"default\":\"wrap\",\"kind\":null,\"name\":\"flex_wrap\"},{\"default\":\"flex-start\",\"kind\":null,\"name\":\"justify_content\"}]},{\"extends\":null,\"module\":null,\"name\":\"GridStack1\",\"overrides\":[],\"properties\":[{\"default\":\"warn\",\"kind\":null,\"name\":\"mode\"},{\"default\":null,\"kind\":null,\"name\":\"ncols\"},{\"default\":null,\"kind\":null,\"name\":\"nrows\"},{\"default\":true,\"kind\":null,\"name\":\"allow_resize\"},{\"default\":true,\"kind\":null,\"name\":\"allow_drag\"},{\"default\":[],\"kind\":null,\"name\":\"state\"}]},{\"extends\":null,\"module\":null,\"name\":\"click1\",\"overrides\":[],\"properties\":[{\"default\":\"\",\"kind\":null,\"name\":\"terminal_output\"},{\"default\":\"\",\"kind\":null,\"name\":\"debug_name\"},{\"default\":0,\"kind\":null,\"name\":\"clears\"}]},{\"extends\":null,\"module\":null,\"name\":\"NotificationAreaBase1\",\"overrides\":[],\"properties\":[{\"default\":\"bottom-right\",\"kind\":null,\"name\":\"position\"},{\"default\":0,\"kind\":null,\"name\":\"_clear\"}]},{\"extends\":null,\"module\":null,\"name\":\"NotificationArea1\",\"overrides\":[],\"properties\":[{\"default\":[],\"kind\":null,\"name\":\"notifications\"},{\"default\":\"bottom-right\",\"kind\":null,\"name\":\"position\"},{\"default\":0,\"kind\":null,\"name\":\"_clear\"},{\"default\":[{\"background\":\"#ffc107\",\"icon\":{\"className\":\"fas fa-exclamation-triangle\",\"color\":\"white\",\"tagName\":\"i\"},\"type\":\"warning\"},{\"background\":\"#007bff\",\"icon\":{\"className\":\"fas fa-info-circle\",\"color\":\"white\",\"tagName\":\"i\"},\"type\":\"info\"}],\"kind\":null,\"name\":\"types\"}]},{\"extends\":null,\"module\":null,\"name\":\"Notification\",\"overrides\":[],\"properties\":[{\"default\":null,\"kind\":null,\"name\":\"background\"},{\"default\":3000,\"kind\":null,\"name\":\"duration\"},{\"default\":null,\"kind\":null,\"name\":\"icon\"},{\"default\":\"\",\"kind\":null,\"name\":\"message\"},{\"default\":null,\"kind\":null,\"name\":\"notification_type\"},{\"default\":false,\"kind\":null,\"name\":\"_destroyed\"}]},{\"extends\":null,\"module\":null,\"name\":\"TemplateActions1\",\"overrides\":[],\"properties\":[{\"default\":0,\"kind\":null,\"name\":\"open_modal\"},{\"default\":0,\"kind\":null,\"name\":\"close_modal\"}]},{\"extends\":null,\"module\":null,\"name\":\"MaterialTemplateActions1\",\"overrides\":[],\"properties\":[{\"default\":0,\"kind\":null,\"name\":\"open_modal\"},{\"default\":0,\"kind\":null,\"name\":\"close_modal\"}]}],\"roots\":{\"references\":[{\"attributes\":{},\"id\":\"1248\",\"type\":\"UnionRenderers\"},{\"attributes\":{\"below\":[{\"id\":\"1201\"}],\"center\":[{\"id\":\"1204\"},{\"id\":\"1208\"}],\"height\":300,\"left\":[{\"id\":\"1205\"}],\"margin\":[5,5,5,5],\"min_border_bottom\":10,\"min_border_left\":10,\"min_border_right\":10,\"min_border_top\":10,\"renderers\":[{\"id\":\"1228\"}],\"sizing_mode\":\"fixed\",\"title\":{\"id\":\"1193\"},\"toolbar\":{\"id\":\"1215\"},\"width\":700,\"x_range\":{\"id\":\"1189\"},\"x_scale\":{\"id\":\"1197\"},\"y_range\":{\"id\":\"1190\"},\"y_scale\":{\"id\":\"1199\"}},\"id\":\"1192\",\"subtype\":\"Figure\",\"type\":\"Plot\"},{\"attributes\":{\"callback\":null,\"formatters\":{\"@{date}\":\"datetime\"},\"renderers\":[{\"id\":\"1228\"}],\"tags\":[\"hv_created\"],\"tooltips\":[[\"date\",\"@{date}{%F %T}\"],[\"close\",\"@{close}\"]]},\"id\":\"1191\",\"type\":\"HoverTool\"},{\"attributes\":{},\"id\":\"1199\",\"type\":\"LinearScale\"},{\"attributes\":{},\"id\":\"1235\",\"type\":\"BasicTickFormatter\"},{\"attributes\":{\"data\":{\"close\":{\"__ndarray__\":\"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\",\"dtype\":\"float64\",\"order\":\"little\",\"shape\":[4323]},\"date\":{\"__ndarray__\":\"AACcO72wdEIAAPhhwrB0QgAAWIMisXRCAAASXyOxdEIAAMw6JLF0QgAAFIVjsnRCAAAqh2mydEIAAJ4+a7J0QgAAEvZssnRCAACQVa2ydEIAAEoxrrJ0QgAABA2vsnRCAACmV7OydEIAADARu7J0QgAA6uy7snRCAAAYgL6ydEIAANJbv7J0QgAAjDfAsnRCAABGE8GydEIAAMbeZbN0QgAA/Iqws3RCAADKk5y0dEIAAPgmn7R0QgAAsgKgtHRCAABs3qC0dEIAADy8p7R0QgAAcmjytHRCAAAsRPO0dEIAAEJG+bR0QgAA5JD9tHRCAACebP60dEIAAPi96LV0QgAAhJ0wt3RCAAD4VDK3dEIAAFh2krd0QgAAElKTt3RCAACkJOO3dEIAAAhkMLh0QgAANvcyuHRCAACqrjS4dEIAAJIdOLh0QgAABtU5uHRCAADc9m25dEIAAFikJbp0QgAAhjcounRCAAAcKGW6dEIAANYDZrp0QgAAiuxeu3RCAABYO2+7dEIAABIXcLt0QgAAzPJwu3RCAACGznG7dEIAAL4Js7t0QgAAeOWzu3RCAAAaMLi7dEIAAEY0xLt0QgAAiLmOwHRCAACeu5TAdEIAAEaQ6sB0QgAAHoc5wXRCAADYYjrBdEIAAJI+O8F0QgAABvY8wXRCAAAcsh7CdEIAAEpFIcJ0QgAAeNgjwnRCAAAytCTCdEIAAGBHJ8J0QgAAdkktwnRCAAAwJS7CdEIAAOoAL8J0QgAApNwvwnRCAAAKq3PCdEIAAMSGdMJ0QgAAlGR7wnRCAAAIHH3CdEIAACrJb8R0QgAAZv8LxXRCAACgprHFdEIAAFqCssV0QgAAFF6zxXRCAABqkbDGdEIAAAzctMZ0QgAAxOKax3RCAAB+vpvHdEIAADianMd0QgAA8nWdx3RCAACsUZ7HdEIAAGYtn8d0QgAAIAmgx3RCAADa5KDHdEIAAJTAocd0QgAATpyix3RCAAAIeKPHdEIAAMJTpMd0QgAAfC+lx3RCAAA2C6bHdEIAAPDmpsd0QgAAqsKnx3RCAABknqjHdEIAAB56qcd0QgAA2FWqx3RCAACSMavHdEIAAEwNrMd0QgAABumsx3RCAADcCuHIdEIAAJbm4ch0QgAACp7jyHRCAABmxOjIdEIAACCg6ch0QgAAfMbuyHRCAACqWfHIdEIAAOAFPMl0QgAAxuVIyXRCAABc1oXJdEIAABayhsl0QgAAkPPZyXRCAABKz9rJdEIAADI+3sl0QgAApvXfyXRCAAAareHJdEIAAI5k48l0QgAAAhzlyXRCAAB20+bJdEIAADCv58l0QgAApGbpyXRCAACWfSvKdEIAAFBZLMp0QgAAxBAuynRCAAB+7C7KdEIAAKx/Mcp0QgAAIDczynRCAADCgTfKdEIAAHxdOMp0QgAABhdAynRCAAAc0yHLdEIAAHj5Jst0QgAAMtUny3RCAABgaCrLdEIAAI77LMt0QgAAdmowy3RCAAAYtTTLdEIAANw4dMt0QgAAfoN4y3RCAAA4X3nLdEIAANqpfct0QgAAlIV+y3RCAACCftPLdEIAAGrt1st0QgAAJMnXy3RCAADepNjLdEIAAJiA2ct0QgAADDjby3RCAADGE9zLdEIAAFwEGcx0QgAARHMczHRCAAC2myfMdEIAAFjmK8x0QgAAEsIszHRCAABG34DMdEIAAJxjo890QgAAbEGqz3RCAADg+KvPdEIAAJrUrM90QgAAjldT0HRCAADEA57QdEIAADi7n9B0QgAAwnSn0HRCAAB8UKjQdEIAANh2rdB0QgAAklKu0HRCAADEmufRdEIAAPIt6tF0QgAAqnr00XRCAAD+QY3SdEIAAHL5jtJ0QgAAVP9D23RCAAD2SUjbdEIAALAlSdt0QgAAagFK23RCAADQz43bdEIAAIqrjtt0QgAARIeP23RCAAD+YpDbdEIAABrv59t0QgAARoo93XRCAACWVnvddEIAAMTpfd10QgAAOKF/3XRCAADCWofddEIAAAbwj910QgAAynPP3XRCAABsvtPddEIAABYiIN50QgAAoNsn3nRCAABatyjedEIAAHC5Lt50QgAAKpUv3nRCAABYKDLedEIAABIEM950QgAAkGNz3nRCAABKP3TedEIAAHjSdt50QgAApmV53nRCAACKcGvfdEIAAEa40N90QgAAZmIV4HRCAAC4mrfgdEIAAOSew+B0QgAAzA3H4HRCAADGGr/hdEIAANDC/eF0QgAALOkC4nRCAAAE4FHidEIAABhTYeJ0QgAARuZj4nRCAAB+IaXidEIAAKolseJ0QgAAkpS04nRCAABWGPTidEIAAISr9uJ0QgAAJGcE43RCAAAmjUTkdEIAAOBoReR0QgAAmkRG5HRCAACwRkzkdEIAAGoiTeR0QgAAmLVP5HRCAAC+6eXkdEIAANJc9eR0QgAARhT35HRCAACQ7SzmdEIAAL6AL+Z0QgAA6oQ75nRCAACkYDzmdEIAAKx5hOZ0QgAANjOM5nRCAADYfZDmdEIAAAYRk+Z0QgAAELnR5nRCAADgltjmdEIAAMgF3OZ0QgAAalDg5nRCAACY4+LmdEIAAAyb5OZ0QgAAxnbl5nRCAADWP7/odEIAAJAbwOh0QgAAvq7C6HRCAAAyZsTodEIAAOxBxeh0QgAASGjK6HRCAAAw183odEIAAF5q0Oh0QgAAJulq6XRCAAAsc7zpdEIAAMY7wup0QgAAvtxV63RCAACStbfrdEIAAFY59+t0QgAAyvD463RCAABmSPXsdEIAAJTb9+x0QgAANib87HRCAAAGBAPtdEIAAILUTO10QgAA3vpR7XRCAABcWpLtdEIAANARlO10QgAAtvGg7XRCAAAEL+jtdEIAAL4K6e10QgAA8ic97nRCAABm3z7udEIAABxXLu90QgAASuow73RCAAAExjHvdEIAAL6hMu90QgAAeH0z73RCAABg7DbvdEIAAEbMQ+90QgAAhJHW73RCAAD4SNjvdEIAACbc2u90QgAAggLg73RCAADeKOXvdEIAANA/J/B0QgAAWvku8HRCAADsy37wdEIAAIyHjPB0QgAAYBrK8XRCAADc6hPydEIAAJbGFPJ0QgAAUKIV8nRCAAAKfhbydEIAAMRZF/J0QgAAOBEZ8nRCAACsyBrydEIAAAjvH/J0QgAAwsog8nRCAAA2giLydEIAAB7xJfJ0QgAATIQo8nRCAACcUGbydEIAAMrjaPJ0QgAAslJs8nRCAAA8DHTydEIAALDDdfJ0QgAALJS/8nRCAACgS8HydEIAAIi6xPJ0QgAAWJjL8nRCAAASdMzydEIAAIYrzvJ0QgAAhO389HRCAAA+yf30dEIAAGxcAPV0QgAA4BMC9XRCAABqzQn1dEIAACSpCvV0QgAADBgO9XRCAADG8w71dEIAAD5gR/Z0QgAAgvVP9nRCAACY91X2dEIAAMaKWPZ0QgAA1rzo9nRCAABKdOr2dEIAAARQ6/Z0QgAAvivs9nRCAAB4B+32dEIAAKaa7/Z0QgAAGlLx9nRCAAACwfT2dEIAAKQL+fZ0QgAAjHr89nRCAACsJEH3dEIAAKqVSvd0QgAAHk1M93RCAAAGvE/3dEIAANzdg/h0QgAACnGG+HRCAADCvZD4dEIAAGQIlfh0QgAA2L+W+HRCAAAGU5n4dEIAADIRgfl0QgAA7OyB+XRCAAB2pon5dEIAAOpdi/l0QgAAXhWN+XRCAABaSMX7dEIAALZuyvt0QgAAKibM+3RCAACe3c37dEIAAIZM0ft0QgAAhHe2/HRCAAD4Lrj8dEIAAILov/x0QgAA9p/B/HRCAADGfcj8dEIAAP64Cf10QgAAuJQK/XRCAABw4RT9dEIAAIbjGv10QgAACs2s/XRCAACsF7H9dEIAAJSGtP10QgAACD62/XRCAABM0779dEIAAAavv/10QgAATJibAXVCAADeausBdUIAABwwfgJ1QgAABJ+BAnVCAADsDYUCdUIAAF42kAJ1QgAA0u2RAnVCAACMyZICdUIAAEalkwJ1QgAAFj12A3VCAAAsP3wDdUIAAEJBggN1QgAA5IuGA3VCAACeZ4cDdUIAAIbWigN1QgAAkH7JA3VCAACMYNwDdUIAAEY83QN1QgAAlggbBHVCAAAKwBwEdUIAADhTHwR1QgAAZuYhBHVCAABkVysEdUIAAB4zLAR1QgAA2A4tBHVCAABMxi4EdUIAAAaiLwR1QgAAVm5tBHVCAAAQSm4EdUIAAD7dcAR1QgAA+LhxBHVCAABscHMEdUIAAPYpewR1QgAAxgeCBHVCAAAMw8oFdUIAAPxKFgZ1QgAAtiYXBnVCAAASTRwGdUIAAIYEHgZ1QgAA1EFlBnVCAADyXLMGdUIAANpiAAh1QgAAwtEDCHVCAAAGZwwIdUIAABaZnAh1QgAA5najCHVCAACGMrEIdUIAAL4EPAp1QgAApnM/CnVCAAAwLUcKdUIAAOoISAp1QgAA8iGQCnVCAACs/ZAKdUIAANqQkwp1QgAANreYCnVCAACS3Z0KdUIAAAaVnwp1QgAAbGPjCnVCAADG+vEKdUIAALaCPQt1QgAAcF4+C3VCAAAqOj8LdUIAAOQVQAt1QgAAnvFAC3VCAABYzUELdUIAABKpQgt1QgAAzIRDC3VCAACGYEQLdUIAAKYKiQt1QgAASFWNC3VCAABKe80MdUIAAL4yzwx1QgAApqHSDHVCAAAaWdQMdUIAAKQS3Ax1QgAAGMrdDHVCAACMgd8MdUIAAEZd4Ax1QgAAUAUfDXVCAADEvCANdUIAAH6YIQ11QgAAlJonDXVCAABkeC4NdUIAAB5ULw11QgAA2C8wDXVCAACSCzENdUIAABBrcQ11QgAAhCJzDXVCAAD42XQNdUIAADxvfQ11QgAAsCZ/DXVCAAAMTYQNdUIAAODfwQ51QgAAmrvCDnVCAABUl8MOdUIAANLTcQ91QgAANhO/D3VCAADYXcMPdUIAAAbxxQ91QgAAPsNQEXVCAACyelIRdUIAAGxWUxF1QgAAJjJUEXVCAADgDVURdUIAAJrpVRF1QgAAglhZEXVCAACw61sRdUIAACSjXRF1QgAA3n5eEXVCAADG7WERdUIAAJD78hF1QgAAvo71EXVCAADsIfgRdUIAAKb9+BF1QgAA1JD7EXVCAABISP0RdUIAAARKPhN1QgAAYHBDE3VCAAAaTEQTdUIAANQnRRN1QgAAArtHE3VCAAC8lkgTdUIAAHZySRN1QgAAGL1NE3VCAACaF+kTdUIAAFTz6RN1QgAADs/qE3VCAADGG/UTdUIAAKYrjBR1QgAAYAeNFHVCAAAEeNEVdUIAANRV2BV1QgAAjjHZFXVCAABIDdoVdUIAAALp2hV1QgAAvMTbFXVCAAAwfN0VdUIAAOpX3hV1QgAAXg/gFXVCAAAY6+AVdUIAAIRDdhZ1QgAAPh93FnVCAAD4+ncWdUIAALLWeBZ1QgAAPJCAFnVCAADe2oQWdUIAAMZJiBZ1QgAA0IgQGHVCAACKZBEYdUIAAHLTFBh1QgAALK8VGHVCAADmihYYdUIAAKBmFxh1QgAAWkIYGHVCAACI1RoYdUIAAEKxGxh1QgAA/IwcGHVCAAAqIB8YdUIAAOT7Hxh1QgAAntcgGHVCAAASjyIYdUIAAMxqIxh1QgAAhkYkGHVCAACQ7mIYdUIAAOwUaBh1QgAApvBoGHVCAADUg2sYdUIAAEg7bRh1QgAAAhduGHVCAAC88m4YdUIAAHbObxh1QgAAXj1zGHVCAAAYGXQYdUIAAEasdhh1QgAAyAYSGXVCAAA8vhMZdUIAAGpRFhl1QgAAJC0XGXVCAACY5BgZdUIAAAycGhl1QgAAxncbGXVCAADcM/0ZdUIAAE5cCBp1QgAACDgJGnVCAAB87woadUIAADbLCxp1QgAAHjoPGnVCAAAGqRIadUIAAJyZTxp1QgAAyixSGnVCAAAmU1cadUIAAOAuWBp1QgAAVOZZGnVCAAA8VV0adUIAALAMXxp1QgAAJMRgGnVCAADGDmUadUIAANZA9Rp1QgAASvj2GnVCAADsQvsadUIAADDYAxt1QgAA6rMEG3VCAACM/ggbdUIAAEbaCRt1QgAA3MpGG3VCAACWpkcbdUIAAFCCSBt1QgAAxDlKG3VCAAA48UsbdUIAAKyoTRt1QgAA2KxZG3VCAACSiFobdUIAAExkWxt1QgAABkBcG3VCAACcx+IcdUIAAD4S5xx1QgAA+O3nHHVCAABspekcdUIAAIKn7xx1QgAA9l7xHHVCAACwOvIcdUIAAJip9Rx1QgAAUoX2HHVCAABcLTUddUIAABYJNh11QgAA/nc5HXVCAAC4UzoddUIAAKDCPR11QgAAWp4+HXVCAADOVUAddUIAAFzEfh51QgAAFqB/HnVCAABEM4IedUIAAKBZhx51QgAAzuyJHnVCAAC2W40edUIAAHA3jh51QgAA5O6PHnVCAACeypAedUIAAIY5lB51QgAAHCrRHnVCAAAyLNcedUIAAKbj2B51QgAAYL/ZHnVCAAC85d4edUIAADCd4B51QgAAjMPlHnVCAABGn+YedUIAAJyMvyB1QgAAyh/CIHVCAACE+8IgdUIAAPiyxCB1QgAAJkbHIHVCAADgIcggdUIAAJr9yCB1QgAAgmzMIHVCAADGAdUgdUIAABbOEiF1QgAAKkEiIXVCAADkHCMhdUIAAJ74IyF1QgAAWNQkIXVCAAASsCUhdUIAAIZnJyF1QgAAjoBvIXVCAABIXHAhdUIAAAI4cSF1QgAAdu9yIXVCAADcvbYhdUIAAKybvSF1QgAAIFO/IXVCAABO5sEhdUIAAMKdwyF1QgAATFfLIXVCAAAGM8whdUIAAJwjCSJ1QgAAVv8JInVCAAAQ2woidUIAAD5uDSJ1QgAAmpQSInVCAAA83xYidUIAAFLhHCJ1QgAAxpgeInVCAACWMAEjdUIAAFAMAiN1QgAAOHsFI3VCAACsMgcjdUIAACDqCCN1QgAACFkMI3VCAADCNA0jdUIAAAbKFSN1QgAAEHJUI3VCAAD2UWEjdUIAAMYvaCN1QgAA/NuyI3VCAAC2t7MjdUIAAJ4mtyN1QgAAYBsAJHVCAACksAgkdUIAAF6MCSR1QgAAjB8MJHVCAABG+wwkdUIAAH42TiR1QgAA8u1PJHVCAACsyVAkdUIAAHynVyR1QgAAqjpaJHVCAABkFlskdUIAAJKpXSR1QgAATIVeJHVCAAAGYV8kdUIAAJZelCV1QgAAUDqVJXVCAADE8ZYldUIAAKxgmiV1QgAACIefJXVCAADCYqAldUIAAHw+oSV1QgAAkkCnJXVCAABMHKgldUIAAAb4qCV1QgAAEKDnJXVCAADKe+gldUIAAD4z6iV1QgAA+A7rJXVCAACy6usldUIAAA4R8SV1QgAAyOzxJXVCAAAkE/cldUIAAN7u9yV1QgAAmMr4JXVCAAAMgvoldUIAAMZd+yV1QgAAXE44JnVCAADQBTomdUIAAHJQPiZ1QgAALCw/JnVCAABav0EmdUIAABSbQiZ1QgAAtuVGJnVCAADM50wmdUIAAIbDTSZ1QgAAHLSKJnVCAAAEI44mdUIAAOyRkSZ1QgAApm2SJnVCAABgSZMmdUIAAI7clSZ1QgAAvG+YJnVCAACk3psmdUIAAF66nCZ1QgAAGJadJnVCAADScZ4mdUIAAEYpoCZ1QgAAcFiRJ3VCAACe65MndUIAAJAC1id1QgAASt7WJ3VCAADsKNsndUIAADC+4yd1QgAA0gjoJ3VCAABGwOkndUIAAApEKSh1QgAArI4tKHVCAABO2TEodUIAAAYmPCh1QgAAyql7KHVCAAA+YX0odUIAAPg8fih1QgAAshh/KHVCAADgq4EodUIAAFLUjCh1QgAAxouOKHVCAAAWWMwodUIAANAzzSh1QgAAuKLQKHVCAACgEdQodUIAAM6k1ih1QgAAWF7eKHVCAACG8eAodUIAAIQcxil1QgAAbIvJKXVCAABU+swpdUIAADxp0Cl1QgAARIIYKnVCAAD+XRkqdUIAABhbeip1QgAAjBJ8KnVCAACsvMAqdUIAAJQrxCp1QgAACOPFKnVCAABWIA0rdUIAAGoqZix1QgAAxlBrLHVCAAD+i6wsdUIAAIa2vSx1QgAApmACLXVCAAAaGAQtdUIAANTzBC11QgAAXq0MLXVCAABGHBAtdUIAAFDETi11QgAAHhNfLXVCAACSymAtdUIAAJZ/ly51QgAACjeZLnVCAADEEpoudUIAADjKmy51QgAAIDmfLnVCAABOzKEudUIAAHxfpC51QgAA8BamLnVCAADYhakudUIAAJJhqi51QgAATD2rLnVCAAAGGawudUIAAD5U7S51QgAA+C/uLnVCAABSx/wudUIAAFxvOy91QgAA0CY9L3VCAACKAj4vdUIAAETePi91QgAAcnFBL3VCAAAsTUIvdUIAAOYoQy91QgAAFLxFL3VCAACIc0cvdUIAALYGSi91QgAAKr5LL3VCAACedU0vdUIAAFhRTi91QgAAEi1PL3VCAADMCFAvdUIAAIbkUC91QgAAipmHMHVCAADOLpAwdUIAACpVlTB1QgAA7EneMHVCAACklugwdUIAAF5y6TB1QgAA0inrMHVCAABG4ewwdUIAAFCJKzF1QgAAysp+MXVCAABsrMwydUIAAJo/zzJ1QgAAxkPbMnVCAADQ6xkzdUIAAMzNLDN1QgAAhqktM3VCAABkKs4zdUIAAE6/ETV1QgAABgwcNXVCAABW2Fk1dUIAAOCRYTV1QgAA3gJrNXVCAADGcW41dUIAAKD3szV1QgAA6hYONnVCAAA4VFU2dUIAAE5WWzZ1QgAABqNlNnVCAACM+Fs3dUIAAJKCrTd1QgAAyr3uN3VCAABsCPM3dUIAAJqb9Td1QgAAVHf2N3VCAAD2wfo3dUIAAMafATh1QgAA0EdAOHVCAACKI0E4dUIAAET/QTh1QgAA/tpCOHVCAAC4tkM4dUIAAHKSRDh1QgAALG5FOHVCAADmSUY4dUIAAKAlRzh1QgAAWgFIOHVCAAAU3Ug4dUIAAM64STh1QgAAiJRKOHVCAABCcEs4dUIAALYnTTh1QgAAcANOOHVCAAAq3044dUIAAOS6Tzh1QgAAzClTOHVCAACGBVQ4dUIAAHgcljh1QgAAMviWOHVCAACmr5g4dUIAAEZrpjh1QgAA0N6JOXVCAACGnJ05dUIAAEiR5jl1QgAAGG/tOXVCAACMJu85dUIAANpjNjp1QgAAslqFOnVCAAAmEoc6dUIAAMbNlDp1QgAAVsvJO3VCAACEXsw7dUIAAPgVzjt1QgAAJqnQO3VCAACaYNI7dUIAAA4Y1Dt1QgAAyPPUO3VCAACCz9U7dUIAAPaG1zt1QgAAsGLYO3VCAADe9do7dUIAAFKt3Dt1QgAADIndO3VCAADGZN47dUIAAHjhcjx1QgAAGJ2APHVCAAAgtsg8dUIAAPCTzzx1QgAABpbVPHVCAABWYhM9dUIAAKyVED51QgAACLwVPnVCAABa9Lc+dUIAAJgtAkF1QgAAxsAEQXVCAAAWjUJBdUIAANBoQ0F1QgAARCBFQXVCAAC410ZBdUIAAM7ZTEF1QgAAQpFOQXVCAAAqAFJBdUIAAFiTVEF1QgAAhiZXQXVCAADs9JpBdUIAAI4/n0F1QgAAMIqjQXVCAADqZaRBdUIAANLUp0F1QgAAiEyXQnVCAABCKJhCdUIAACqXm0J1QgAAzOGfQnVCAABaHJ5ddUIAAIivoF11QgAAGPP5XXVCAADSzvpddUIAAEaG/F11QgAALCDlXnVCAADm++VedUIAAM5q6V51QgAAhrfzXnVCAACcc9VfdUIAAFZP1l91QgAAECvXX3VCAADKBthfdUIAAERIK2B1QgAAhk49YHVCAABK0nxgdUIAAASufWB1QgAAeGV/YHVCAADsHIFgdUIAAEa0j2B1QgAAZM/dYHVCAADKNGtidUIAAFp4xGJ1QgAABNwQY3VCAABIcRljdUIAAHYEHGN1QgAARuIiY3VCAABGeWxkdUIAAPJrr2R1QgAABt++ZHVCAAA+GgBldUIAANDsT2V1QgAAishQZXVCAABEpFFldUIAABoMqmV1QgAAvFauZXVCAACkxbFldUIAALZjpmZ1QgAAGBT9ZnVCAADS7/1mdUIAAIzL/mZ1QgAA3Jc8Z3VCAABOwEdndUIAAMqQkWd1QgAAakyfZ3VCAADGCe5odUIAAMyTP2l1QgAAvBuLaXVCAAAw04xpdUIAAEbVkml1QgAAZn/XaXVCAADaNtlpdUIAAAjK22l1QgAAnCsianVCAABqejJqdUIAAAzFNmp1QgAAkhota3VCAAAG0i5rdUIAAOBXdGt1QgAADut2a3VCAABSgH9rdUIAAAxcgGt1QgAAxjeBa3VCAACeLtBrdUIAAIad02t1QgAAHI4QbHVCAAACbh1sdUIAALxJHmx1QgAAMAEgbHVCAADq3CBsdUIAAKS4IWx1QgAA0kskbHVCAADc82JsdUIAAJTXtm11QgAAfEa6bXVCAAAekb5tdUIAANhsv211QgAADIoTbnVCAADGZRRudUIAAFrHWm51QgAASk+mbnVCAACQCu9vdUIAAJaUQHB1QgAAJEmjcHVCAADOrO9wdUIAAEJk8XB1QgAAhCTfcXVCAAD42+BxdUIAAOBK5HF1QgAAmiblcXVCAAAO3uZxdUIAAIKV6HF1QgAAsCjrcXVCAADeu+1xdUIAAFJz73F1QgAADE/wcXVCAADGKvFxdUIAANDSL3J1QgAAShSDcnVCAAC8PI5ydUIAADD0j3J1QgAAGGOTcnVCAAB+MddydUIAAB7t5HJ1QgAAChEfdHVCAADE7B90dUIAAMp2cXR1QgAAgsN7dHVCAAD2en10dUIAAFxJwXR1QgAAFJbLdHVCAAC24M90dUIAAByvE3V1QgAA1ooUdXVCAACQZhV1dUIAALwBa3Z1QgAAUGOxdnVCAAAKP7J2dUIAAMQas3Z1QgAAfvazdnVCAADKpAR3dUIAAFReDHd1QgAADjoNd3VCAADIFQ53dUIAADzND3d1QgAA9qgQd3VCAACwhBF3dUIAAGpgEnd1QgAAxoYXd3VCAAAUxF53dUIAAARMqnd1QgAAjHa7d3VCAAAQ95Z5dUIAAPj843p1QgAAmkfoenVCAAD2be16dUIAAL7sh3t1QgAAjsqOe3VCAAAwFZN7dUIAAFZJKXx1QgAAECUqfHVCAADKACt8dUIAAEw4NH11QgAAHNAWfnVCAADEpGx+dUIAAJaos391QgAAkorGf3VCAADQT1mAdUIAAP7iW4B1QgAAcppdgHVCAACenmmAdUIAAIrCo4F1QgAAoMSpgXVCAABaoKqBdUIAALbGr4F1QgAAcKKwgXVCAABYEbSBdUIAAAqOSIJ1QgAAhjsAg3VCAAAQr+ODdUIAAMj77YN1QgAAgtfug3VCAAByXzqEdUIAABIbSIR1QgAAzPZIhHVCAACG0kmEdUIAANaeh4R1QgAAkHqIhHVCAABeyZiEdUIAAEY4nIR1QgAA4Lp9hnVCAADeK4eGdUIAAOZEz4Z1QgAAQmvUhnVCAABw/taGdUIAAIYA3YZ1QgAAHPEZh3VCAACQqBuHdUIAAARgHYd1QgAA7M4gh3VCAADUPSSHdUIAAHaIKId1QgAA6j8qh3VCAABe9yuHdUIAAJA/ZYh1QgAAMoppiHVCAAB2H3KIdUIAAMzpuIp1QgAApOAHi3VCAACMTwuLdUIAAFZdnIt1QgAAPsyfi3VCAAAmO6OLdUIAAFTOpYt1QgAAyIWni3VCAACCYaiLdUIAADw9qYt1QgAA9hiqi3VCAACw9KqLdUIAAGrQq4t1QgAAJKysi3VCAADeh62LdUIAAJhjrot1QgAAUj+vi3VCAAAMG7CLdUIAAMb2sIt1QgAA5BH/i3VCAACe7f+LdUIAAFb05Yx1QgAAshrrjHVCAADMF0yNdUIAAIbzTI11QgAAHOSJjXVCAADWv4qNdUIAAJCbi411QgAASneMjXVCAAAEU42NdUIAAL4ujo11QgAAeAqPjXVCAAAy5o+NdUIAAOoymo11QgAAjH2ejXVCAACWJd2NdUIAAFAB3o11QgAATnLnjXVCAAB8BeqNdUIAADbh6o11QgAA2CvvjXVCAADetUCOdUIAAMYkRI51QgAACnQoj3VCAACcRniPdUIAAFYieY91QgAAEP55j3VCAADK2XqPdUIAAIS1e491QgAAJgCAj3VCAADg24CPdUIAAMhKhI91QgAAij/Nj3VCAABEG86PdUIAAHg4IpB1QgAAMhQjkHVCAADs7yOQdUIAANReJ5B1QgAA6mAtkHVCAAAY9C+QdUIAAJZTcJB1QgAA8Op+kHVCAAAG7YSQdUIAANaEZ5F1QgAA7IZtkXVCAACmYm6RdUIAAGA+b5F1QgAAGhpwkXVCAAACiXORdUIAAHZAdZF1QgAAXq94kXVCAACMQnuRdUIAAFDGupF1QgAACqK7kXVCAADEfbyRdUIAADg1vpF1QgAA2n/CkXVCAAAIE8WRdUIAAHzKxpF1QgAA2PDLkXVCAAAQLA2SdUIAAD6/D5J1QgAAXNpdknVCAABaS2eSdUIAAM4CaZJ1QgAAQrpqknVCAABwTW2SdUIAADCzv5J1QgAA6o7AknVCAADWsvqTdUIAAARG/ZN1QgAAYGwClHVCAAACtwaUdUIAALySB5R1QgAA3DxMlHVCAABM1mCUdUIAAAayYZR1QgAAEFqglHVCAADKNaGUdUIAACZcppR1QgAAVO+olHVCAACwFa6UdUIAACTNr5R1QgAAmISxlHVCAADGF7SUdUIAALgu9pR1QgAAWOoDlXVCAACGfQaVdUIAANBWPJZ1QgAAijI9lnVCAABEDj6WdUIAAP7pPpZ1QgAAuMU/lnVCAAByoUCWdUIAAOTJS5Z1QgAAhhRQlnVCAAAcBY2WdUIAANbgjZZ1QgAAkLyOlnVCAABKmI+WdUIAAAR0kJZ1QgAAvk+RlnVCAAB4K5KWdUIAADIHk5Z1QgAASAmZlnVCAABGeqKWdUIAANxq35Z1QgAAUCLhlnVCAAAIb+uWdUIAAMJK7JZ1QgAANgLulnVCAADw3e6WdUIAAAbg9JZ1QgAAnNAxl3VCAABWrDKXdUIAABCIM5d1QgAAPhs2l3VCAAD49jaXdUIAAGyuOJd1QgAAJoo5l3VCAADgZTqXdUIAAJpBO5d1QgAAVB08l3VCAAAO+TyXdUIAAMjUPZd1QgAAgrA+l3VCAAD2Z0CXdUIAACT7Qpd1QgAAxkVHl3VCAADcASmYdUIAAJbdKZh1QgAACpUrmHVCAADEcCyYdUIAAH5MLZh1QgAAOCgumHVCAADyAy+YdUIAAKzfL5h1QgAAZrswmHVCAAAglzGYdUIAAJROM5h1QgAATio0mHVCAAAIBjWYdUIAAHy9Nph1QgAANpk3mHVCAADwdDiYdUIAAKpQOZh1QgAAHgg7mHVCAACSvzyYdUIAAA6Qhph1QgAAXM3NmHVCAAAWqc6YdUIAANCEz5h1QgAAimDQmHVCAABEPNGYdUIAAP4X0ph1QgAAuPPSmHVCAAByz9OYdUIAAOaG1Zh1QgAAoGLWmHVCAABaPteYdUIAABQa2Jh1QgAAiNHZmHVCAABCrdqYdUIAALZk3Jh1QgAAntPfmHVCAAAcMyCZdUIAAL59JJl1QgAAjlsrmXVCAADS8DOZdUIAAJZ0c5l1QgAAOL93mXVCAACsdnmZdUIAAMJ4f5l1QgAAklaGmXVCAABMMoeZdUIAAAYOiJl1QgAAlgu9mnVCAABQ572adUIAAArDvpp1QgAArA3DmnVCAAAGpdGadUIAAJyVDpt1QgAAVnEPm3VCAAAQTRCbdUIAAMooEZt1QgAAhAQSm3VCAAA+4BKbdUIAAPi7E5t1QgAAspcUm3VCAABscxWbdUIAACZPFpt1QgAAyJkam3VCAACKjmObdUIAAERqZJt1QgAA/kVlm3VCAABY3XObdUIAAIZwdpt1QgAABNC2m3VCAAC+q7ebdUIAADJjuZt1QgAA7D66m3VCAABg9rubdUIAABrSvJt1QgAAjom+m3VCAABIZb+bdUIAAAJBwJt1QgAAvBzBm3VCAABckqqcdUIAABZuq5x1QgAAGmkGnXVCAACOIAiddUIAAKQiDp11QgAAGNoPnXVCAACWOVCddUIAAMpWpJ11QgAAhDKlnXVCAAA+DqaddUIAAPjppp11QgAAssWnnXVCAABsoaiddUIAACZ9qZ11QgAAahKynXVCAAAk7rKddUIAAAxdtp11QgAAxji3nXVCAADK7e2edUIAAITJ7p51QgAAPqXvnnVCAABsOPKedUIAAODv8551QgAAmsv0nnVCAABUp/WedUIAAA6D9p51QgAAyF73nnVCAACCOviedUIAADwW+Z51QgAAsM36nnVCAABqqfuedUIAAAz0/551QgAAFpw+n3VCAADQdz+fdUIAACyeRJ91QgAAWjFHn3VCAAAUDUifdUIAAIjESZ91QgAAWKJQn3VCAAAcJpCfdUIAANYBkZ91QgAAkN2Rn3VCAAACBp2fdUIAAHa9np91QgAAOLLnn3VCAAA2I/GfdUIAAB6S9J91QgAA2G31n3VCAAA4STGhdUIAAPIkMqF1QgAArAAzoXVCAABm3DOhdUIAAKpxPKF1QgAAHik+oXVCAABMvEChdUIAAAaYQaF1QgAAmvmHoXVCAABU1YihdUIAABxUI6J1QgAAGsUsonVCAABIWC+idUIAAHbrMaJ1QgAArJd8onVCAABk5IaidUIAAIyEgaN1QgAATOrTo3VCAAAk4SKkdUIAAIaReaR1QgAAHIK2pHVCAAAEiAOmdUIAANx+UqZ1QgAAOKVXpnVCAADygFimdUIAACAUW6Z1QgAA4HmtpnVCAADI6LCmdUIAAILEsaZ1QgAAXEr3pnVCAADQAfmmdUIAAIrd+aZ1QgAAQioEp3VCAAASCAundUIAAD7G8qd1QgAAasr+p3VCAADQmEKodUIAAMx6Vah1QgAAhlZWqHVCAACmAJuodUIAAGDcm6h1QgAAGricqHVCAAC8AqGodUIAANIEp6h1QgAA3KzlqHVCAABQZOeodUIAAKyK7Kh1QgAAIELuqHVCAACU+e+odUIAAHxo86h1QgAAZNf2qHVCAAAQyjmpdUIAAMaHTal1QgAAlh8wqnVCAABQ+zCqdUIAAH6OM6p1QgAA8kU1qnVCAACsITaqdUIAAD70hap1QgAA+M+GqnVCAABcD9SqdUIAANDG1ap1QgAARH7XqnVCAAD+WdiqdUIAAIgT4Kp1QgAAhoTpqnVCAADWUCerdUIAAEoIKat1QgAABOQpq3VCAAB4myurdUIAADJ3LKt1QgAAUJJ6q3VCAAAgcIGrdUIAAMK6hat1QgAA2LyLq3VCAABMdI2rdUIAAAZQjqt1QgAA1udwrHVCAADs6XasdUIAAGCheKx1QgAAjjR7rHVCAAB+vMasdUIAADiYx6x1QgAATprNrHVCAACc1xStdUIAAFazFa11QgAAPJMirXVCAABcPWetdUIAAND0aK11QgAAitBprXVCAABErGqtdUIAAP6Ha611QgAAcj9trXVCAACg0m+tdUIAAIhBc611QgAAEvt6rXVCAACGsnytdUIAAEinxa11QgAARhjPrXVCAABEQ7SudUIAAHLWtq51QgAAWLbDrnVCAACGScaudUIAAL6EB691QgAACjNYr3VCAACU7F+vdUIAABC9qa91QgAAypiqr3VCAACEdKuvdUIAALIHrq91QgAAbOOur3VCAAAOLrOvdUIAACQwua91QgAADJ+8r3VCAADGer2vdUIAAFxr+q91QgAAVnjysHVCAADKL/SwdUIAAPjC9rB1QgAAsp73sHVCAABseviwdUIAAJoN+7B1QgAAsA8BsXVCAACYfgSxdUIAAIqVRrF1QgAA1kOXsXVCAACQH5ixdUIAAEr7mLF1QgAABNeZsXVCAAC+spqxdUIAAHiOm7F1QgAAMmqcsXVCAADsRZ2xdUIAAGD9nrF1QgAAGtmfsXVCAACMAauxdUIAANzN6LF1QgAAUIXqsXVCAAAKYeuxdUIAAH4Y7bF1QgAAOPTtsXVCAADyz+6xdUIAAKyr77F1QgAAZofwsXVCAAAgY/GxdUIAANo+8rF1QgAAJF5MsnVCAADeOU2ydUIAAJgVTrJ1QgAA8mY4s3VCAACsQjmzdUIAAHwgQLN1QgAAnMqEs3VCAACwPZSzdUIAALhW3LN1QgAAcjLds3VCAADMyeuzdUIAAIal7LN1QgAAHJYptHVCAADWcSq0dUIAAAQFLbR1QgAAvuAttHVCAAB8t4m0dUIAAI5VfrV1QgAASDF/tXVCAAACDYC1dUIAAAiX0bV1QgAA8AXVtXVCAAAemde1dUIAAAYI27V1QgAAPkMctnVCAAD4Hh22dUIAAOCNILZ1QgAAgtgktnVCAAAWOmu2dUIAANAVbLZ1QgAAivFstnVCAAD+qG62dUIAALiEb7Z1QgAAcmBwtnVCAACg83K2dUIAAFrPc7Z1QgAAFKt0tnVCAADOhnW2dUIAACqterZ1QgAAhtN/tnVCAABy97m3dUIAACpExLd1QgAA5B/Ft3VCAADcwFi4dUIAAFB4Wrh1QgAAOOdduHVCAAAgVmG4dUIAAB7Harh1QgAA2KJruHVCAACSfmy4dUIAAExabbh1QgAAhJWuuHVCAAD4TLC4dUIAALIosbh1QgAAXIz9uHVCAADQQ/+4dUIAAHD/DLl1QgAAEHX2uXVCAAB4r566dUIAAGAeorp1QgAAGvqiunVCAADU1aO6dUIAAB71/bp1QgAAnFQ+u3VCAAAOfUm7dUIAAMbJU7t1QgAAChk4vHVCAACq1EW8dUIAAGSwRrx1QgAAHoxHvHVCAAA+Noy8dUIAAPaClrx1QgAAJBaZvHVCAACYzZq8dUIAAP6b3rx1QgAAFJ7kvHVCAAActyy9dUIAADK5Mr11QgAAvHI6vXVCAAAwKjy9dUIAAOoFPb11QgAAXr0+vXVCAABm1oa9dUIAABxOdr51QgAAvph6vnVCAAAyUHy+dUIAABgwib51QgAA0guKvnVCAACM54q+dUIAAEbDi751QgAA3LPIvnVCAAAKR8u+dUIAADjazb51QgAAZm3QvnVCAACqAtm+dUIAAExN3b51QgAAPmQfv3VCAAAWW26/dUIAANA2b791QgAA/slxv3VCAABygXO/dUIAAOY4db91QgAAiIN5v3VCAAD8Onu/dUIAALYWfL91QgAA5Kl+v3VCAACehX+/dUIAAFhhgL91QgAAEj2Bv3VCAADMGIK/dUIAAIb0gr91QgAA1sDAv3VCAABKeMK/dUIAADLnxb91QgAApp7Hv3VCAABI6cu/dUIAADBYz791QgAA6jPQv3VCAABe69G/dUIAABjH0r91QgAA0qLTv3VCAACMftS/dUIAAEZa1b91QgAAFvK3wHVCAADQzbjAdUIAAIqpucB1QgAARIW6wHVCAAC4PLzAdUIAACz0vcB1QgAAoKu/wHVCAACIGsPAdUIAAPzRxMB1QgAAtq3FwHVCAADkQMjAdUIAAIaLzMB1QgAAvsYNwXVCAAACXBbBdUIAAOrKGcF1QgAA0jkdwXVCAABG8R7BdUIAAFCZXcF1QgAAfixgwXVCAACsv2LBdUIAAJKfb8F1QgAAVJS4wXVCAAA8A7zBdUIAAIRN+8J1QgAAbLz+wnVCAADe5AnDdUIAAFKcC8N1QgAAxlMNw3VCAACK10zDdUIAAESzTcN1QgAA/o5Ow3VCAAAUkVTDdUIAAM5sVcN1QgAA5G5bw3VCAACeSlzDdUIAAIa5X8N1QgAA1oWdw3VCAACQYZ7DdUIAAEo9n8N1QgAABBmgw3VCAABgP6XDdUIAANT2psN1QgAAvGWqw3VCAAB2QavDdUIAANJnsMN1QgAARh+yw3VCAAB+WvPDdUIAADg29MN1QgAAEC1DxHVCAACE5ETEdUIAAGxTSMR1QgAADA9WxHVCAADG6lbEdUIAAN4SncV1QgAAuJjixXVCAABCUurFdUIAAOSc7sV1QgAAhufyxXVCAAC+IjTGdUIAAMSshcZ1QgAAOGSHxnVCAACS+5XGdUIAAEzXlsZ1QgAAMnF/x3VCAAAI2dfHdUIAADZs2sd1QgAAhKkhyHVCAABsGCXIdUIAAOTKgch1QgAAhhWGyHVCAACMn9fIdUIAAHjDEcp1QgAAplYUynVCAABgMhXKdUIAAEihGMp1QgAAMBAcynVCAADcAl/KdUIAAJbeX8p1QgAAxHFiynVCAACcaLHKdUIAABAgs8p1QgAAsmq3ynVCAABSJsXKdUIAAMbdxsp1QgAAXM4Dy3VCAADO9g7LdUIAAIZDGct1QgAAypL9y3VCAACEbv7LdUIAAPaWCcx1QgAAzo1YzHVCAABYR2DMdUIAAJYM88x1QgAAxJ/1zHVCAADImlDNdUIAAApbPs51QgAAxDY/znVCAABk8kzOdUIAANipTs51QgAAcpXmznVCAAAscefOdUIAAOZM6M51QgAAzrvrznVCAAAq4vDOdUIAAMws9c51QgAAhgj2znVCAADs1jnPdUIAAALZP891QgAArDyMz3VCAADCPpLPdUIAAJIcmc91QgAAvtqA0HVCAACOuIfQdUIAAMruI9F1QgAAhMok0XVCAAA+piXRdUIAAPiBJtF1QgAAsl0n0XVCAABsOSjRdUIAACYVKdF1QgAA4PAp0XVCAACazCrRdUIAACSGMtF1QgAAhjaJ0XVCAABKusjRdUIAANAPv9J1QgAAiuu/0nVCAAAUpcfSdUIAAHDLzNJ1QgAAKqfN0nVCAACeXs/SdUIAAFg60NJ1QgAAEhbR0nVCAACQdRHTdUIAAEpREtN1QgAASMIb03VCAAACnhzTdUIAALx5HdN1QgAA6gwg03VCAABGMyXTdUIAAJb/YtN1QgAAUNtj03VCAAAKt2TTdUIAADhKZ9N1QgAA8iVo03VCAADCA2/TdUIAAHzfb9N1QgAABpl303VCAAAQQbbTdUIAAMoct9N1QgAAbGe703VCAAAmQ7zTdUIAAOaoDtR1QgAAzhcS1HVCAABY0RnUdUIAAMaVE9V1QgAAXIZQ1XVCAAAWYlHVdUIAAIoZU9V1QgAA/tBU1XVCAAC4rFXVdUIAAHKIVtV1QgAAcPlf1XVCAACejGLVdUIAAFhoY9V1QgAAhvtl1XVCAAAy7qjVdUIAAGR8BtZ1QgAAhCZL1nVCAADEV0LXdUIAAPLqRNd1QgAAkqZS13VCAAAQBpPXdUIAAMrhk9d1QgAAPpmV13VCAAD4dJbXdUIAAGwsmNd1QgAA4OOZ13VCAAAOd5zXdUIAACR5otd1QgAAUgyl13VCAAAskurXdUIAAOZt69d1QgAAQpTw13VCAABYlvbXdUIAAMxN+Nd1QgAAhin513VCAACm0z3YdUIAAI5CQdh1QgAASB5C2HVCAAC81UPYdUIAAEaPS9h1QgAAXreR2XVCAAAYk5LZdUIAAIxKlNl1QgAARiaV2XVCAACs9NjZdUIAAFzidtp1QgAARFF62nVCAABCwoPadUIAAOQMiNp1QgAAWMSJ2nVCAACGV4zadUIAAOwl0Np1QgAApHLa2nVCAABeTtvadUIAAETow9t1QgAAkJYU3HVCAAAaUBzcdUIAANQrHdx1QgAAjgce3HVCAABI4x7cdUIAAAK/H9x1QgAApAkk3HVCAADEs2jcdUIAAH6Padx1QgAAINpt3HVCAADatW7cdUIAAKqTddx1QgAAZG923HVCAACSAnncdUIAAJyqt9x1QgAA3rDJ3HVCAAAMRMzcdUIAAMYfzdx1QgAAuDYP3XVCAAD8yxfddUIAAHCDGd11QgAA5Dob3XVCAACcQQHedUIAAFYdAt51QgAAEPkC3nVCAADK1APedUIAAD6MBd51QgAA+GcG3nVCAACyQwfedUIAALC0EN51QgAAJGwS3nVCAACYIxTedUIAAMa2Ft51QgAA/GJh3nVCAADW6KbedUIAAJDEp951QgAAZJ0J33VCAABmw0ngdUIAAKpYUuB1QgAAMj0/4XVCAAAwrkjhdUIAAAo0juF1QgAAxA+P4XVCAACU7ZXhdUIAAAill+F1QgAAfFyZ4XVCAADYgp7hdUIAABzSguJ1QgAAkImE4nVCAABKZYXidUIAAARBhuJ1QgAA7K+J4nVCAADcN9XidUIAAJYT1uJ1QgAAWnSD43VCAAAUUITjdUIAAM4rheN1QgAAhniP43VCAADUtdbjdUIAABhL3+N1QgAAHAAW5XVCAADW2xbldUIAAJC3F+V1QgAASpMY5XVCAAAC4CLldUIAADBzJeV1QgAApCon5XVCAABeBijldUIAAJZBaeV1QgAArENv5XVCAAAIanTldUIAAMJFdeV1QgAAfCF25XVCAAAG233ldUIAAFanu+V1QgAAhDq+5XVCAAA+Fr/ldUIAAPjxv+V1QgAAJoXC5XVCAADgYMPldUIAAFQYxeV1QgAADvTF5XVCAACwPsrldUIAAJitzeV1QgAAUonO5XVCAABYEyDmdUIAAJxiBOd1QgAA+IgJ53VCAABSIBjndUIAANB/WOd1QgAAiltZ53VCAABEN1rndUIAALjuW+d1QgAA7Auw53VCAABGo77ndUIAADi6AOh1QgAAPkRS6HVCAACY22DodUIAAPIsS+l1QgAAlHdP6XVCAACckJfpdUIAAFZsmOl1QgAAhP+a6XVCAADGBa3pdUIAAATLP+p1QgAA1KhG6nVCAABG0VHqdUIAAKyflep1QgAAHPOF63VCAADWzobrdUIAAJCqh+t1QgAASoaI63VCAAAEYonrdUIAAHgZi+t1QgAAMvWL63VCAADs0IzrdUIAAKasjet1QgAAYIiO63VCAAAaZI/rdUIAANQ/kOt1QgAAjhuR63VCAABI95HrdUIAAALTkut1QgAAvK6T63VCAAB2ipTrdUIAADBmlet1QgAAXvmX63VCAADSsJnrdUIAAIyMmut1QgAARmib63VCAAAK7NrrdUIAAH6j3Ot1QgAAOH/d63VCAACsNt/rdUIAAGYS4Ot1QgAACF3k63VCAADCOOXrdUIAAHwU5ut1QgAANvDm63VCAADwy+frdUIAAKqn6Ot1QgAAnL4q7HVCAABWmivsdUIAAD4JL+x1QgAA+OQv7HVCAABsnDHsdUIAAA7nNex1QgAAyMI27HVCAAA8ejjsdUIAALAxOux1QgAAag077HVCAAAk6TvsdUIAAN7EPOx1QgAAxjNA7HVCAABwl4zsdUIAAJ4qj+x1QgAARCrK7XVCAAD+BcvtdUIAADIjH+51QgAATCCA7nVCAAAG/IDudUIAADyoy+51QgAAXFIQ73VCAABYNCPvdUIAAIbHJe91QgAAxvgc8HVCAAAWxVrwdUIAAHh1sfB1QgAA8rYE8XVCAADcS0jydUIAAJYnSfJ1QgAAUANK8nVCAAA4ck3ydUIAAGYFUPJ1QgAAEGmc8nVCAAAma6LydUIAADxtqPJ1QgAAxiaw8nVCAABcF+3ydUIAAP5h8fJ1QgAAhowC83VCAAB2FE7zdUIAANzikfN1QgAAIHia83VCAADwVaHzdUIAAEqni/R1QgAA3Hnb9HVCAADCWej0dUIAAGSk7PR1QgAA2Fvu9HVCAACSN+/0dUIAAEwT8PR1QgAABu/w9HVCAADObYv1dUIAALbcjvV1QgAAEgOU9XVCAADM3pT1dUIAAIa6lfV1QgAA1obT9XVCAABKPtX1dUIAAHjR1/V1QgAAMq3Y9XVCAADsiNn1dUIAAKZk2vV1QgAAYEDb9XVCAAAaHNz1dUIAANT33PV1QgAAjtPd9XVCAAACi9/1dUIAALxm4PV1QgAAdkLh9XVCAADq+eL1dUIAAKTV4/V1QgAAGI3l9XVCAABGIOj1dUIAABa4yvZ1QgAA0JPL9nVCAACKb8z2dUIAAERLzfZ1QgAA/ibO9nVCAABy3s/2dUIAACy60PZ1QgAAoHHS9nVCAABaTdP2dUIAABQp1PZ1QgAAzgTV9nVCAACI4NX2dUIAAEK81vZ1QgAA/JfX9nVCAAC2c9j2dUIAAHBP2fZ1QgAAKiva9nVCAADkBtv2dUIAAJ7i2/Z1QgAAWL7c9nVCAACGUd/2dUIAAL6MIPd1QgAAjmon93VCAABIRij3dUIAAAIiKfd1QgAAvP0p93VCAADcp273dUIAAH7ycvd1QgAAOM5z93VCAACshXX3dUIAAAYdhPd1QgAAnA3B93VCAACKBhb4dUIAAHDmIvh1QgAAzAwo+HVCAABWgAv5dUIAAMo3Dfl1QgAAsqYQ+XVCAAAmXhL5dUIAAJoVFPl1QgAAVPEU+XVCAACChBf5dUIAAPY7Gfl1QgAAavMa+XVCAAAkzxv5dUIAAAw+H/l1QgAA0MFe+XVCAACKnV/5dUIAAObDZPl1QgAAcH1s+XVCAABY7G/5dUIAAIZ/cvl1QgAA3NUB+nVCAAAKaQT6dUIAAGQAE/p1QgAAhKpX+nVCAADcbEv7dUIAAJZITPt1QgAAxNtO+3VCAABssKT7dUIAAFQfqPt1QgAAxkez+3VCAAAWFPH7dUIAAIrL8vt1QgAARKfz+3VCAADm8ff7dUIAAM5g+/t1QgAAQhj9+3VCAAC2z/77dUIAAHCr//t1QgAA5GIB/HVCAACePgL8dUIAAFgaA/x1QgAAEvYD/HVCAADM0QT8dUIAAIatBfx1QgAASjFF/HVCAAAYgFX8dUIAABw1jP11QgAA1hCN/XVCAABKyI79dUIAAASkj/11QgAAMjeS/XVCAACMzqD9dUIAAEaqof11QgAATDTz/XVCAAD4Jjb+dUIAAGpPQf51QgAAxnVG/nVCAAAczNX+dUIAANan1v51QgAAFtnN/3VCAAAs29P/dUIAAIgB2f91QgAAQt3Z/3VCAABY39//dUIAABK74P91QgAAHGMfAHZCAABK9iEAdkIAAF5pMQB2QgAAfhN2AHZCAADaOXsAdkIAAB7PgwB2QgAA+FTJAHZCAACyMMoAdkIAACboywB2QgAA4MPMAHZCAACan80AdkIAAFR7zgB2QgAADlfPAHZCAAA86tEAdkIAALCh0wB2QgAAan3UAHZCAAAkWdUAdkIAAN401gB2QgAAmBDXAHZCAABS7NcAdkIAAFyUFgF2QgAAiJgiAXZCAACcxQ0CdkIAAIQ0EQJ2QgAAPhASAnZCAAD46xICdkIAAGyjFAJ2QgAAJn8VAnZCAADgWhYCdkIAAJo2FwJ2QgAAVBIYAnZCAAAO7hgCdkIAAIKlGgJ2QgAA9lwcAnZCAAD+dWQCdkIAAObkZwJ2QgAAnjFyAnZCAAAyk7gCdkIAAI65vQJ2QgAAvEzAAnZCAAB2KMECdkIAADAEwgJ2QgAAGHPFAnZCAADSTsYCdkIAANz2BAN2QgAA2mcOA3ZCAAA2jhMDdkIAANjYFwN2QgAABmwaA3ZCAACcXFcDdkIAAFY4WAN2QgAAEBRZA3ZCAADK71kDdkIAAITLWgN2QgAAPqdbA3ZCAAD4glwDdkIAALJeXQN2QgAAbDpeA3ZCAAAmFl8DdkIAAODxXwN2QgAAms1gA3ZCAABUqWEDdkIAAMhgYwN2QgAAgjxkA3ZCAAA8GGUDdkIAAGqrZwN2QgAAxtFsA3ZCAACWaU8EdkIAAFBFUAR2QgAACiFRBHZCAACU2lgEdkIAAMJtWwR2QgAA/qP3BHZCAABKUkgFdkIAAAQuSQV2QgAAvglKBXZCAABIw1EFdkIAAKTpVgV2QgAAHiuqBXZCAABMvqwFdkIAAErpkQZ2QgAABMWSBnZCAAC+oJMGdkIAAHh8lAZ2QgAAMliVBnZCAADsM5YGdkIAAKYPlwZ2QgAAYOuXBnZCAAAax5gGdkIAAEhamwZ2QgAAAjacBnZCAAC8EZ0GdkIAAOqknwZ2QgAATFX2BnZCAABch4YHdkIAAOzK3wd2QgAA0qrsB3ZCAADsYSkJdkIAABhmNQl2QgAAxFh4CXZCAADy63oJdkIAAKzHewl2QgAAZqN8CXZCAAAgf30JdkIAAJxPxwl2QgAAUg3bCXZCAAAM6dsJdkIAAPxwJwp2QgAA0ANlC3ZCAACK32ULdkIAAES7Zgt2QgAA/pZnC3ZCAAByTmkLdkIAACwqagt2QgAAoOFrC3ZCAABavWwLdkIAAIhQbwt2QgAAcL9yC3ZCAAAqm3MLdkIAABIKdwt2QgAAHLK1C3ZCAADWjbYLdkIAAEYnywt2QgAA3BcIDHZCAACW8wgMdkIAAFDPCQx2QgAAfmIMDHZCAAA4Pg0MdkIAAKz1Dgx2QgAAIK0QDHZCAADaiBEMdkIAAPCKFwx2QgAAHh4aDHZCAACcfVoMdkIAAFZZWwx2QgAAhOxdDHZCAAA+yF4MdkIAALJ/YAx2QgAAbFthDHZCAAAmN2IMdkIAAJruYwx2QgAAVMpkDHZCAAAOpmUMdkIAAMiBZgx2QgAAgl1nDHZCAAA8OWgMdkIAAPYUaQx2QgAAsPBpDHZCAABqzGoMdkIAACSoawx2QgAA3oNsDHZCAADcrlENdkIAAPKwVw12QgAACLNdDXZCAADwIWENdkIAAExIZg12QgAA+DqpDXZCAACyFqoNdkIAAGzyqg12QgAAJs6rDXZCAAAOPa8NdkIAADzQsQ12QgAA9quyDXZCAACwh7MNdkIAAGpjtA12QgAADK64DXZCAADGibkNdkIAABZW9w12QgAAKskGDnZCAABYXAkOdkIAAIbvCw52QgAAHOBIDnZCAADWu0kOdkIAAEZVXg52QgAArCOiDnZCAAAg26MOdkIAANq2pA52QgAANt2pDnZCAACWuOUPdkIAAApw5w92QgAAxEvoD3ZCAAB+J+kPdkIAAKy66w92QgAA2k3uD3ZCAACUKe8PdkIAAHyY8g92QgAANnTzD3ZCAACqK/UPdkIAAAZS+g92QgAAJvw+EHZCAADeSEkQdkIAAJgkShB2QgAAFoSKEHZCAAC4zo4QdkIAAOZhkRB2QgAAoD2SEHZCAACIrJUQdkIAALY/mBB2QgAApDjtEHZCAAAY8O4QdkIAAIrS1RF2QgAAttbhEXZCAABYIeYRdkIAADKnKxJ2QgAA7IIsEnZCAAC8YDMSdkIAAF6rNxJ2QgAARho7EnZCAAA4MX0SdkIAAHzGhRJ2QgAAksiLEnZCAACccMoSdkIAAD67zhJ2QgAA+JbPEnZCAACyctASdkIAAGxO0RJ2QgAA4AXTEnZCAAAQvxUUdkIAAMgLIBR2QgAA3g0mFHZCAACY6SYUdkIAAFxtZhR2QgAA0CRoFHZCAABE3GkUdkIAAP63ahR2QgAAuJNrFHZCAAByb2wUdkIAACxLbRR2QgAA5iZuFHZCAABa3m8UdkIAAM6VcRR2QgAAQk1zFHZCAAD8KHQUdkIAALYEdRR2QgAAcOB1FHZCAAAqvHYUdkIAAOSXdxR2QgAAnnN4FHZCAABYT3kUdkIAABIrehR2QgAAzAZ7FHZCAACG4nsUdkIAABzTuBR2QgAA1q65FHZCAACQiroUdkIAAEpmuxR2QgAABEK8FHZCAAB4+b0UdkIAADLVvhR2QgAA7LC/FHZCAACmjMAUdkIAAGBowRR2QgAA1B/DFHZCAAC8jsYUdkIAAEZIzhR2QgAAlhQMFXZCAAA4XxAVdkIAAGbyEhV2QgAAIM4TFXZCAAAePx0VdkIAAFJccRV2QgAA3M9UFnZCAABQh1YWdkIAAApjVxZ2QgAAxD5YFnZCAAB+GlkWdkIAAPLRWhZ2QgAAlBxfFnZCAADCr2EWdkIAANixZxZ2QgAABkVqFnZCAAAQ7agWdkIAAMrIqRZ2QgAAJu+uFnZCAADgyq8WdkIAAJqmsBZ2QgAADl6yFnZCAADIObMWdkIAAIIVtBZ2QgAAPPG0FnZCAAD2zLUWdkIAALCothZ2QgAAJGC4FnZCAABS87oWdkIAAAzPuxZ2QgAAxqq8FnZCAABcm/kWdkIAABZ3+hZ2QgAAdphaF3ZCAABeB14XdkIAANK+Xxd2QgAAjJpgF3ZCAADcZp4XdkIAAB5tsBd2QgAA1nOWGHZCAACQT5cYdkIAAEYNqxh2QgAAULXpGHZCAAB8ufUYdkIAADwfSBl2QgAAxthPGXZCAABcyYwZdkIAABaljRl2QgAA0ICOGXZCAACKXI8ZdkIAAEQ4kBl2QgAA/hORGXZCAAByy5IZdkIAAM7xlxl2QgAAhj6iGXZCAAAaoOgZdkIAAEak9Bl2QgAAHMYoG3ZCAADWoSkbdkIAAJB9Kht2QgAASlkrG3ZCAAC+EC0bdkIAAHjsLRt2QgAAMsguG3ZCAADsoy8bdkIAAKZ/MBt2QgAAYFsxG3ZCAAAaNzIbdkIAANQSMxt2QgAAju4zG3ZCAADwnoobdkIAAAahkBt2QgAAspPTG3ZCAADgJtYbdkIAAJoC1xt2QgAADCviG3ZCAADGBuMbdkIAALgdJRx2QgAAWmgpHHZCAAAStTMcdkIAABDgGB12QgAAyrsZHXZCAAA+cxsddkIAAEZp0R12QgAACu0QHnZCAABmExYedkIAAAheGh52QgAANvEcHnZCAACqqB4edkIAAFabYR52QgAAsDJwHnZCAAAk6nEedkIAAJihcx52QgAAxjR2HnZCAABOGWMfdkIAAN5cvB92QgAAHCJPIHZCAADW/U8gdkIAAEq1USB2QgAABJFSIHZCAAB4SFQgdkIAAOz/VSB2QgAApttWIHZCAAAak1ggdkIAAI5KWiB2QgAAdrldIHZCAAAwlV4gdkIAAKRMYCB2QgAAGARiIHZCAADS32IgdkIAAIy7YyB2QgAARpdkIHZCAAAKG6QgdkIAAH7SpSB2QgAArGWoIHZCAAAYm6shdkIAAH5p7yF2QgAA8JH6IXZCAACchD0idkIAAFZgPiJ2QgAASnouJHZCAAAEVi8kdkIAAHgNMSR2QgAA7MQyJHZCAACmoDMkdkIAABpYNSR2QgAA1DM2JHZCAACODzckdkIAAKQRPSR2QgAA0qQ/JHZCAABGXEEkdkIAAJYofyR2QgAAbJDXJHZCAACCkt0kdkIAAAxM5SR2QgAAxifmJHZCAACgrSsldkIAAJ4eNSV2QgAAWPo1JXZCAACcSRomdkIAAMrcHCZ2QgAAhLgdJnZCAAA+lB4mdkIAAGwnISZ2QgAAJgMiJnZCAADg3iImdkIAAJq6IyZ2QgAAVJYkJnZCAAAOciUmdkIAAMhNJiZ2QgAAgiknJnZCAAA8BSgmdkIAAPbgKCZ2QgAAsLwpJnZCAABqmComdkIAACR0KyZ2QgAA3k8sJnZCAACYKy0mdkIAAFIHLiZ2QgAADOMuJnZCAADGvi8mdkIAAOZodCZ2QgAAEm2AJnZCAADMSIEmdkIAAIYkgiZ2QgAASqjBJnZCAAAEhMImdkIAALzQzCZ2QgAAXhvRJnZCAAAY99EmdkIAAIyu0yZ2QgAARorUJnZCAADcehEndkIAAJZWEid2QgAAfsUVJ3ZCAAA4oRYndkIAAKrJISd2QgAAZKUiJ3ZCAADEgF4odkIAAHzNaCh2QgAAEC+vKHZCAABCvQwpdkIAACosECl2QgAAEpsTKXZCAACGUhUpdkIAAI5rXSl2QgAAjgKnKnZCAACMc7AqdkIAAJylQCt2QgAAyjhDK3ZCAAA+8EQrdkIAAPjLRSt2QgAAsqdGK3ZCAABsg0crdkIAAA7OSyt2QgAAgoVNK3ZCAAAMP1UrdkIAAMYaVit2QgAAXAuTK3ZCAADQwpQrdkIAAIqelSt2QgAA5DWkK3ZCAADUve8rdkIAAIwK+it2QgAARub6K3ZCAAAWft0sdkIAAHAV7Cx2QgAA7OU1LXZCAACOMDotdkIAALzDPC12QgAAMHs+LXZCAADE3IQtdkIAAJIrlS12QgAAmLXmLXZCAAC4XysudkIAAHI7LC52QgAAWqovLnZCAABwrDUudkIAAIauOy52QgAAPrUhL3ZCAADQh3EvdkIAAIpjci92QgAARD9zL3ZCAAD+GnQvdkIAACyudi92QgAAFB16L3ZCAABCsHwvdkIAAJ7WgS92QgAAWLKCL3ZCAAASjoMvdkIAAIZFhS92QgAAvoDGL3ZCAABQUxYwdkIAAAovFzB2QgAAxAoYMHZCAAB+5hgwdkIAAPAOJDB2QgAAquokMHZCAACyA20wdkIAAGpQdzB2QgAA3gd5MHZCAAAKxmAxdkIAAMShYTF2QgAAHjlwMXZCAAAGqHMxdkIAAIQHtDF2QgAAJlK4MXZCAACaCboxdkIAAPYvvzF2QgAAXP4CMnZCAACKkQUydkIAAERtBjJ2QgAAuCQIMnZCAACgkwsydkIAAJ4EFTJ2QgAAhnMYMnZCAADWP1YydkIAAJAbVzJ2QgAASvdXMnZCAAB4iloydkIAADJmWzJ2QgAA7EFcMnZCAACmHV0ydkIAAGD5XTJ2QgAA1LBfMnZCAAC8H2MydkIAAHb7YzJ2QgAA6rJlMnZCAADSIWkydkIAAFCBqTJ2QgAA2jqxMnZCAACQsqAzdkIAAEqOoTN2QgAABGqiM3ZCAAB4IaQzdkIAAOzYpTN2QgAAprSmM3ZCAABgkKczdkIAABpsqDN2QgAA1EepM3ZCAACOI6ozdkIAABjdsTN2QgAARnC0M3ZCAADYQgQ0dkIAAJIeBTR2QgAAXCyWNHZCAAAWCJc0dkIAANDjlzR2QgAA/OejNHZCAADU3vI0dkIAAAJy9TR2QgAAHCkyNnZCAACQ4DM2dkIAAEq8NDZ2QgAA7AY5NnZCAAC85D82dkIAAJjW6TZ2QgAAFKczN3ZCAACIXjU3dkIAAFZnITh2QgAAyh4jOHZCAACE+iM4dkIAAPixJTh2QgAAJkUoOHZCAABSSTQ4dkIAAFjThTh2QgAAhmaIOHZCAADWMsY4dkIAAJAOxzh2QgAASurHOHZCAAB4fco4dkIAAOw0zDh2QgAAGsjOOHZCAADqpdU4dkIAADZUJjl2QgAAbABxOXZCAACcubM6dkIAABBxtTp2QgAAUnfHOnZCAAAMU8g6dkIAAJbGqzt2QgAACn6tO3ZCAABmpLI7dkIAAEyEvzt2QgAAxPD3PHZCAAA4qPk8dkIAAPKD+jx2QgAACIYAPXZCAAA2GQM9dkIAAGSsBT12QgAADhBSPXZCAADe7Vg9dkIAAFxNmT12QgAASLf3PXZCAAAyTDs/dkIAALwFQz92QgAApHRGP3ZCAACWi4g/dkIAAFBniT92QgAAVGLkP3ZCAACC9eY/dkIAAAyv7j92QgAAmh0tQXZCAABcEnZBdkIAANDJd0F2QgAAiqV4QXZCAABEgXlBdkIAAP5cekF2QgAAuDh7QXZCAAByFHxBdkIAAKCnfkF2QgAA/M2DQXZCAAC2qYRBdkIAABLQiUF2QgAAzKuKQXZCAACGh4tBdkIAAPLfIEJ2QgAAlColQnZCAACqLCtCdkIAALC2fEJ2QgAAxriCQnZCAABWtrdDdkIAAMptuUN2QgAAPiW7Q3ZCAAAUjRNEdkIAAM5oFER2QgAA/PsWRHZCAAAS/hxEdkIAAIa1HkR2QgAAlueuRHZCAADEerFEdkIAAPINtER2QgAA2O3ARHZCAAAGgcNEdkIAAErQp0V2QgAAdtSzRXZCAADcovdFdkIAAAo2+kV2QgAAlO8BRnZCAAAUu6ZGdkIAAM6Wp0Z2QgAAhuOxRnZCAADssfVGdkIAABpF+EZ2QgAAWOf4R3ZCAADMnvpHdkIAAFYS3kh2QgAAyDrpSHZCAACCFupIdkIAAGqF7Uh2QgAAKus/SXZCAABYfkJJdkIAAMw1REl2QgAA+PMrSnZCAADI0TJKdkIAAAxnO0p2QgAAxkI8SnZCAAAWD3pKdkIAAEIThkp2QgAAKoKJSnZCAACGqI5KdkIAAByZy0p2QgAA1nTMSnZCAACQUM1KdkIAAEoszkp2QgAAvFTZSnZCAAB2MNpKdkIAANz+HUt2QgAA2OAwS3ZCAACSvDFLdkIAAEyYMkt2QgAABnQzS3ZCAAD4inVLdkIAAMbZhUt2QgAAlnFoTHZCAADEBGtMdkIAAHxRdUx2QgAATC98THZCAAAGC31MdkIAAFbXukx2QgAAELO7THZCAADKjrxMdkIAAD5Gvkx2QgAA+CG/THZCAACy/b9MdkIAACa1wUx2QgAA4JDCTHZCAACabMNMdkIAAFRIxEx2QgAADiTFTHZCAABcYQxNdkIAANAYDk12QgAAivQOTXZCAAC4hxFNdkIAAHjtY012QgAARjx0TXZCAACOhrNOdkIAAPLFAE92QgAArKEBT3ZCAADKvE9PdkIAAIoiok92QgAALG2mT3ZCAABaAKlPdkIAAI4d/U92QgAApB8DUHZCAABGagdQdkIAAOxpQlF2QgAARCw2UnZCAAC44zdSdkIAAEKdP1J2QgAAnO4pU3ZCAAA+OS5TdkIAALLwL1N2QgAAml8zU3ZCAADGYz9TdkIAABYwfVN2QgAA0At+U3ZCAABEw39TdkIAALh6gVN2QgAAtuuKU3ZCAAASEpBTdkIAAIbJkVN2QgAAXsDgU3ZCAADEjiRUdkIAANqQKlR2QgAA2AE0VHZCAACS3TRUdkIAABA9dVR2QgAAVNJ9VHZCAADG+ohUdkIAANy2alV2QgAA8rhwVXZCAABk4XtVdkIAAAYsgFV2QgAAamvNVXZCAABcgg9WdkIAABZeEFZ2QgAA0DkRVnZCAABE8RJWdkIAABJAI1Z2QgAAhvckVnZCAACQNq1XdkIAAATurld2QgAA7FyyV3ZCAACmOLNXdkIAAGAUtFd2QgAA1Mu1V3ZCAACOp7ZXdkIAAEiDt1d2QgAAAl+4V3ZCAAC8OrlXdkIAAHYWuld2QgAAMPK6V3ZCAADqzbtXdkIAAKSpvFd2QgAAXoW9V3ZCAAAYYb5XdkIAANI8v1d2QgAAjBjAV3ZCAABG9MBXdkIAABACUlh2QgAAyt1SWHZCAACEuVNYdkIAAD6VVFh2QgAA+HBVWHZCAACyTFZYdkIAAODfWFh2QgAAmrtZWHZCAAAOc1tYdkIAAPbhXlh2QgAAsL1fWHZCAAAkdWFYdkIAAMa/ZVh2QgAAHK0+WnZCAACQZEBadkIAAEpAQVp2QgAAvvdCWnZCAACO1UladkIAAAKNS1p2QgAA6vtOWnZCAABGIlRadkIAAAqmk1p2QgAAxIGUWnZCAAB+XZVadkIAADg5llp2QgAA8hSXWnZCAACE5+ZadkIAACYy61p2QgAAVMXtWnZCAABqx/NadkIAAAwS+Fp2QgAAxu34WnZCAAAsvDxbdkIAAM4GQVt2QgAAQr5CW3ZCAABYwEhbdkIAAIZTS1t2QgAAhH4wXHZCAAD4NTJcdkIAAOCkNVx2QgAAgu85XHZCAAA8yzpcdkIAACQ6Plx2QgAA3hU/XHZCAACWHCVddkIAAFD4JV12QgAAxK8nXXZCAABkazVddkIAANgiN112QgAACmtwXnZCAAA2b3xedkIAAGQCf152QgAAhKzDXnZCAADGstVedkIAAIo2FV92QgAARBIWX3ZCAAC4yRdfdkIAAHKlGF92QgAALIEZX3ZCAADOyx1fdkIAACryIl92QgAAWIUlX3ZCAACGGChfdkIAAAR4aF92QgAAvlNpX3ZCAAAyC2tfdkIAAOzma192QgAA0sZ4X3ZCAAAKArpfdkIAADiVvF92QgAA2t/AX3ZCAADw4cZfdkIAANhQyl92QgAATAjMX3ZCAADcBQFhdkIAAJbhAWF2QgAAUL0CYXZCAAAKmQNhdkIAANjnE2F2QgAABnsWYXZCAAD2AmJhdkIAAAwFaGF2QgAA1hL5YXZCAAAEpvthdkIAABqoAWJ2QgAASDsEYnZCAAACFwVidkIAAHbOBmJ2QgAAXj0KYnZCAADS9AtidkIAAIzQDGJ2QgAARqwNYnZCAAC4jvRidkIAAFhKAmN2QgAABqmpY3ZCAACECOpjdkIAAD7k6mN2QgAAJlPuY3ZCAACaCvBjdkIAAN6f+GN2QgAAhJ8zZXZCAACYEkNldkIAAHKYiGV2QgAAzr6NZXZCAABYeJVldkIAAIYLmGV2QgAA0rnoZXZCAABGcepldkIAAAbXPGZ2QgAAVqN6ZnZCAAAQf3tmdkIAAD4SfmZ2QgAA3s2LZnZCAABShY1mdkIAAMY8j2Z2QgAA3PhwZ3ZCAAAKjHNndkIAAAZuhmd2QgAAEBbFZ3ZCAADK8cVndkIAAAz412d2QgAAuOoaaHZCAABaNR9odkIAAIY5K2h2QgAAHCpoaHZCAAAEmWtodkIAAHbBdmh2QgAA6nh4aHZCAADUDbxpdkIAALKOXGp2QgAADCZranZCAAAEx/5qdkIAAKYRA2t2QgAA1KQFa3ZCAADSFQ9rdkIAAIzxD2t2QgAARs0Qa3ZCAABE+PVrdkIAAOZC+mt2QgAAoB77a3ZCAABCaf9rdkIAAJ6PBGx2QgAA1spFbHZCAAACz1FsdkIAAHaGU2x2QgAAGNFXbHZCAABGZFpsdkIAAH6fm2x2QgAA2DaqbHZCAAAQcutsdkIAAIQp7Wx2QgAAJnTxbHZCAABcIDxtdkIAABb8PG12QgAA0Nc9bXZCAABEjz9tdkIAAP5qQG12QgAAzkhHbXZCAAAqb0xtdkIAAIaVUW12QgAAmsI8bnZCAABSD0dudkIAAAzrR252QgAAtk6UbnZCAADk4ZZudkIAAJ69l252QgAAhiybbnZCAADW+NhudkIAAKbW3252QgAAdrTmbnZCAAAKFi1vdkIAAGY8Mm92QgAAqtE6b3ZCAADYZD1vdkIAALLqgm92QgAAbMaDb3ZCAACwW4xvdkIAAMZdkm92QgAArPd6cHZCAABOQn9wdkIAADaxgnB2QgAAZESFcHZCAABMs4hwdkIAAJrwz3B2QgAADqjRcHZCAACCX9NwdkIAAGrO1nB2QgAADBnbcHZCAADG9NtwdkIAAHLnHnF2QgAAkAJtcXZCAAB++8FxdkIAAMKQynF2QgAAHrfPcXZCAACSbtFxdkIAAFaJWnN2QgAAEGVbc3ZCAACEHF1zdkIAABx5/nN2QgAAkDAAdHZCAACGHwt1dkIAAJDHSXV2QgAAAvBUdXZCAABUKPd1dkIAABYdQHZ2QgAA0PhAdnZCAACK1EF2dkIAAESwQnZ2QgAA/otDdnZCAADKBTl3dkIAAFzYiHd2QgAA0I+Kd3ZCAABy2o53dkIAAMxxnXd2QgAAhk2ed3ZCAABQWy94dkIAAMQSMXh2QgAAfu4xeHZCAABmXTV4dkIAACA5Nnh2QgAA2hQ3eHZCAADYhUB4dkIAAMqcgnh2QgAAJsOHeHZCAACaeol4dkIAAMgNjHh2QgAAsHyPeHZCAADcOnd5dkIAAFDyeHl2QgAABrCMeXZCAACyos95dkIAAGx+0Hl2QgAAJlrReXZCAACaEdN5dkIAAFTt03l2QgAAUl7deXZCAAD8wSl6dkIAACpVLHp2QgAA5DAtenZCAAASxC96dkIAAEhwenp2QgAACNbMenZCAADwRNB6dkIAAKog0Xp2QgAAZPzRenZCAAB4Kb17dkIAAGCYwHt2QgAAvL7Fe3ZCAAAwdsd7dkIAAEZ4zXt2QgAAlkQLfHZCAABQIAx8dkIAAKxGEXx2QgAAlLUUfHZCAABOkRV8dkIAAGSTG3x2QgAABt4ffHZCAABEo7J8dkIAAObttnx2QgAAFIG5fHZCAABCFLx8dkIAACqDv3x2QgAAkFEDfXZCAAAECQV9dkIAAL7kBX12QgAAMpwHfXZCAADsdwh9dkIAAKZTCX12QgAASJ4NfXZCAAACeg59dkIAAOroEX12QgAApMQSfXZCAAAYfBR9dkIAANJXFX12QgAAjDMWfXZCAABcy/h9dkIAALjx/X12QgAA5oQAfnZCAACgYAF+dkIAAFo8An52QgAAzvMDfnZCAACWcp5+dkIAAJTjp352QgAACJupfnZCAAAena9+dkIAABC08X52QgAAyo/yfnZCAACabfl+dkIAALBv/352QgAAaksAf3ZCAABE0UV/dkIAAKD3Sn92QgAAWtNLf3ZCAAAUr0x/dkIAAM6KTX92QgAAWERVf3ZCAAASIFZ/dkIAAIQCPYB2QgAAJL5KgHZCAADGCE+AdkIAAATO4YB2QgAAeIXjgHZCAADsPOWAdkIAABrQ54B2QgAA1KvogHZCAAAw0u2AdkIAAOqt7oB2QgAApInvgHZCAAAYQfGAdkIAAIz48oB2QgAAlqAxgXZCAAAgWjmBdkIAAB7LQoF2QgAATF5FgXZCAAAGOkaBdkIAAIIKkIF2QgAA9sGRgXZCAACwnZKBdkIAAN4wlYF2QgAAOIJ/gnZCAADyXYCCdkIAAKw5gYJ2QgAAfBeIgnZCAACqqoqCdkIAAMpUz4J2QgAAxjbignZCAABwmi6DdkIAACp2L4N2QgAAdiSAg3ZCAACMJoaDdkIAAHyu0YN2QgAANorSg3ZCAADwZdODdkIAAKpB1IN2QgAAZB3Vg3ZCAAAe+dWDdkIAAAZo2YN2QgAA7AHChHZCAACm3cKEdkIAAI5MxoR2QgAASCjHhHZCAAACBMiEdkIAALzfyIR2QgAAGAbOhHZCAABmQxWFdkIAADYhHIV2QgAA2GsghXZCAACSRyGFdkIAAAb/IoV2QgAAsvFlhXZCAABszWaFdkIAAA4Ya4V2QgAAsGJvhXZCAADGZHWFdkIAAHDIwYV2QgAA5H/DhXZCAACeW8SFdkIAAFg3xYV2QgAAhsrHhXZCAACmdAyGdkIAAGBQDYZ2QgAASL8QhnZCAAC8dhKGdkIAAEYwGoZ2QgAA1J5Yh3ZCAAACMluHdkIAANIPYod2QgAAjOtih3ZCAABGx2OHdkIAAMi4SIl2QgAAJN9NiXZCAAByHJWJdkIAAObTlol2QgAAWPyhiXZCAAAS2KKJdkIAAMyzo4l2QgAAUJ01inZCAAB8oUGKdkIAAAZbSYp2QgAAUgmainZCAADGwJuKdkIAAFA0f4t2QgAAxOuAi3ZCAAB+x4GLdkIAAPJ+g4t2QgAABvKSi3ZCAABcSCKMdkIAALhuJ4x2QgAALCYpjHZCAACITC6MdkIAAEIoL4x2QgAAvGmCjHZCAADY9dmMdkIAAEyt24x2QgAAkPy/jXZCAADYjCOOdkIAAJwQY452QgAAshJpjnZCAADQLbeOdkIAACrFxY52QgAAao0GkXZCAAAkaQeRdkIAAFoVUpF2QgAAEmJckXZCAADMPV2RdkIAAJzVP5J2QgAAJABRknZCAAD+hZaSdkIAAByh5JJ2QgAA1nzlknZCAACQWOaSdkIAAAQQ6JJ2QgAAvuvoknZCAACmWuySdkIAAAZ8TJN2QgAA3J2AlHZCAACWeYGUdkIAAFBVgpR2QgAACjGDlHZCAAB+6ISUdkIAADjEhZR2QgAArHuHlHZCAAAgM4mUdkIAAJTqipR2QgAATsaLlHZCAAAIooyUdkIAAMJ9jZR2QgAAfFmOlHZCAAA2NY+UdkIAAPAQkJR2QgAAquyQlHZCAABkyJGUdkIAAB6kkpR2QgAA2H+TlHZCAACSW5SUdkIAAEw3lZR2QgAABhOWlHZCAAC4jyqVdkIAABS2L5V2QgAAWEs4lXZCAADMAjqVdkIAAIbeOpV2QgAAkIZ5lXZCAADsrH6VdkIAAGBkgJV2QgAA1BuClXZCAAB2ZoaVdkIAAJYQy5V2QgAAZu7RlXZCAAAgytKVdkIAAEzO3pV2QgAAkB3DlnZCAADsQ8iWdkIAAOZQwJd2QgAAhgzOl3ZCAADW2AuYdkIAAKa2Eph2QgAASAEXmHZCAAAwcBqYdkIAAEZyIJh2QgAAXC4CmXZCAACKwQSZdkIAAJ40FJl2QgAAhqMXmXZCAACW1aeZdkIAAH5Eq5l2QgAAZCS4mXZCAACSt7qZdkIAABahTJp2QgAA/IBZmnZCAACGOmGadkIAABBFjpx2QgAAbGuTnHZCAABq3JycdkIAAET5K552QgAA/tQsnnZCAAC4sC2edkIAAHKMLp52QgAA5kMwnnZCAACG/z2edkIAAEqDfZ52QgAASPSGnnZCAAAC0IeedkIAALyriJ52QgAAMGOKnnZCAAAY0o2edkIAADKJyp92QgAA6tXUn3ZCAAB8qCSgdkIAAEyGK6B2QgAAXE8FonZCAABYMRiidkIAABy1V6J2QgAA6gNoonZCAADScmuidkIAAIxObKJ2QgAA+D1LpHZCAAD2rlSkdkIAAARS7qR2QgAAvi3vpHZCAAAy5fCkdkIAAF7p/KR2QgAADteapXZCAACCjpyldkIAADxqnaV2QgAAav2fpXZCAAAk2aCldkIAAN60oaV2QgAAxiOlpXZCAAA+kN2mdkIAAPhr3qZ2QgAAskffpnZCAACatuKmdkIAAFSS46Z2QgAAPAHnpnZCAAD23OemdkIAAGqU6aZ2QgAA3kvrpnZCAACYJ+ymdkIAAAzf7aZ2QgAAxrrupnZCAABaHDWndkIAACr6O6d2QgAA5NU8p3ZCAAAC8YqndkIAADCEjad2QgAAHKjHqHZCAACQX8modkIAAEo7yqh2QgAAGhnRqHZCAAACiNSodkIAALxj1ah2QgAAXq7ZqHZCAAAYitqodkIAAEYd3ah2QgAAwu0mqXZCAABMpy6pdkIAAAaDL6l2QgAA9gp7qXZCAABK0hOqdkIAADJBF6p2QgAA1IsbqnZCAABE3wurdkIAAHJyDqt2QgAALE4Pq3ZCAAD8KxardkIAALYHF6t2QgAAKr8Yq3ZCAACedhqrdkIAABIuHKt2QgAAhuUdq3ZCAAAc1lqrdkIAAF7cbKt2QgAARktwq3ZCAAAKz6+rdkIAADhisqt2QgAArBm0q3ZCAADYHcCrdkIAAAaxwqt2QgAAhBADrHZCAADgNgisdkIAAJoSCax2QgAAVO4JrHZCAAAOygqsdkIAAMilC6x2QgAAgoEMrHZCAACwFA+sdkIAAGrwD6x2QgAAJMwQrHZCAADepxGsdkIAAJiDEqx2QgAAUl8TrHZCAABEdlWsdkIAAA5hVK12QgAAFnqcrXZCAABGeQOudkIAANhLU652QgAAVquTrnZCAAD49ZeudkIAAD6x4K92QgAAJJHtr3ZCAACGQUSwdkIAABwygbB2QgAA1g2CsHZCAABKxYOwdkIAAGboJLJ2QgAACDMpsnZCAAAeNS+ydkIAAJyUb7J2QgAAEExxsnZCAADKJ3KydkIAAIQDc7J2QgAAPt9zsnZCAAD4unSydkIAALKWdbJ2QgAAbHJ2snZCAADgKXiydkIAAJoFebJ2QgAAVOF5snZCAADImHuydkIAAIJ0fLJ2QgAAPFB9snZCAAD2K36ydkIAALAHf7J2QgAAauN/snZCAAAkv4CydkIAAN6agbJ2QgAAmHaCsnZCAABSUoOydkIAAAwuhLJ2QgAAxgmFsnZCAADQscOydkIAAH6ntLR2QgAAOIO1tHZCAAAg8ri0dkIAAGSHwbR2QgAA9lkRtXZCAABamV61dkIAAORSZrV2QgAALJ2ltnZCAABaMKi2dkIAAIjDqrZ2QgAAZLVUt3ZCAADYA6C4dkIAAJLfoLh2QgAA3o3xuHZCAABMUuu5dkIAAHaB3Lp2QgAAbJN5u3ZCAADgSnu7dkIAAKSrKLx2QgAAXocpvHZCAACMsXW9dkIAAEaNdr12QgAAZje7vXZCAADgeA6+dkIAAN7pF752QgAAUqEZvnZCAADgD1i/dkIAACSlYL92QgAAzgitv3ZCAACkcAXAdkIAAPg3nsB2QgAAPM2mwHZCAAAMq63AdkIAAMaGrsB2QgAAlh6RwXZCAADEsZPBdkIAAKwgl8F2QgAAZvyXwXZCAABkbaHBdkIAAPjO58F2QgAAsqrowXZCAADgPevBdkIAAJa12sJ2QgAAUCglxHZCAADw4zLEdkIAAKq/M8R2QgAATAo4xHZCAADGS4vEdkIAAFw8yMR2QgAAQhzVxHZCAACGsd3EdkIAALj5FsZ2QgAActUXxnZCAABIPXDGdkIAAOqHdMZ2QgAAXj92xnZCAABGrnnGdkIAACA0v8Z2QgAA2g/AxnZCAACU68DGdkIAAHxaxMZ2QgAAHqXIxnZCAABSwhzHdkIAABS3Zcd2QgAAht9wx3ZCAADGEGjIdkIAAATW+sh2QgAAMmn9yHZCAAACRwTJdkIAAJaoSsl2QgAA3jiuyXZCAADCQ6DKdkIAAKqyo8p2QgAA3s/3ynZCAABEnjvLdkIAANThlMt2QgAAvFCYy3ZCAABem5zLdkIAABh3nct2QgAA0lKey3ZCAAB4UtnMdkIAAEgw4Mx2QgAAvOfhzHZCAACq4DbNdkIAAMZsjs12QgAA8DLJz3ZCAADYoczPdkIAAAY1z892QgAAVgEN0HZCAABWmFbRdkIAAPjiWtF2QgAAmi1f0XZCAACIJrTRdkIAAHYfCdJ2QgAATIdh0nZCAABSEbPSdkIAAMbItNJ2QgAAEg5P1HZCAACeGyrYdkIAAEbwf9h2QgAAIHbF2HZCAABkC87YdkIAAEKMbtl2QgAA4HJh2nZCAABUKmPadkIAAAx3bdp2QgAAHhVi23ZCAABqw7LbdkIAAJhWtdt2QgAAuJdD3XZCAAAsT0XddkIAALYITd12QgAAcORN3XZCAAAwSqDddkIAAEZMpt12QgAAqovz3XZCAABkZ/TddkIAAAay+N12QgAAUveS33ZCAACGFOffdkIAANRRLuB2QgAASAkw4HZCAAB2nDLgdkIAAOpTNOB2QgAAXgs24HZCAABGEYPhdkIAAPB0z+F2QgAA/Ihy4nZCAABqTWzjdkIAAMz9wuN2QgAAAqoN5HZCAADYqK/ldkIAAJKEsOV2QgAABjyy5XZCAABsCvbldkIAACbm9uV2QgAAFN9L5nZCAAB4HpnmdkIAABppneZ2QgAA6kak5nZCAACMkajmdkIAAEZtqeZ2QgAApLnu53ZCAAAYcfDndkIAAEYE8+d2QgAAWva67HZCAABw+MDsdkIAAFhnxOx2QgAAzB7G7HZCAABQKVv2dkIAAGYrYfZ2QgAAlL5j9nZCAACERq/2dkIAAOBstPZ2QgAAaia89nZCAADe3b32dkIAAPIKqfd2QgAAZsKq93ZCAAAGfrj3dkIAABAm9/d2QgAAygH493ZCAAAOlwD4dkIAAN50B/h2QgAALLJO+HZCAAAEqZ34dkIAANL3rfh2QgAAOMbx+HZCAABmWfT4dkIAAPAS/Ph2QgAA2IH/+HZCAAAEQOf5dkIAAGBm7Pl2QgAA0o73+XZCAACWEjf6dkIAAH6BOvp2QgAATl9B+nZCAACyno76dkIAACZWkPp2QgAA4DGR+nZCAACaDZL6dkIAAFTpkvp2QgAAPFiW+nZCAACwD5j6dkIAAGrrmPp2QgAAJMeZ+nZCAADeopr6dkIAAJh+m/p2QgAADDad+nZCAADGEZ76dkIAACzg4fp2QgAAtpnp+nZCAADqtj37dkIAAGCUf/x2QgAAjieC/HZCAABeBYn8dkIAANK8ivx2QgAAjJiL/HZCAABGdIz8dkIAANhG3Px2QgAAkiLd/HZCAABM/t38dkIAAAba3vx2QgAAnMob/XZCAAAmhCP9dkIAAA7zJv12QgAA3tAt/XZCAADGPzH9dkIAAIalg/12QgAA9vhz/nZCAABqsHX+dkIAAFzHt/52QgAA0H65/nZCAAC47bz+dkIAAMxgzP52QgAAHC0K/3ZCAABKwAz/dkIAAF4zHP92QgAARqIf/3ZCAAAKJl//dkIAAPKUYv92QgAA2gNm/3ZCAABOu2f/dkIAAAYIcv92QgAA9o+9/3ZCAABqR7//dkIAAFK2wv92QgAAwgmzAHdCAAA2wbQAd0IAAEzDugB3QgAABp+7AHdCAAASs14Bd0IAAIZqYAF3QgAAqg8AAndCAABk6wACd0IAANiiAgJ3QgAATFoEAndCAAAwZfYCd0IAABjU+QJ3QgAAqqZJA3dCAADq10AEd0IAADCTiQV3QgAA6m6KBXdCAACkSosFd0IAAF4mjAV3QgAAGAKNBXdCAADS3Y0Fd0IAAIy5jgV3QgAARpWPBXdCAACK5HMGd0IAAIhVfQZ3QgAADqtzB3dCAACCYnUHd0IAAMb3fQd3QgAAXOi6B3dCAADQn7wHd0IAALgOwAd3QgAAcurAB3dCAAAsxsEHd0IAAOahwgd3QgAAoH3DB3dCAAAUNcUHd0IAAELIxwd3QgAA/KPIB3dCAAC2f8kHd0IAAHBbygd3QgAAKjfLB3dCAADkEswHd0IAAJ7uzAd3QgAAEqbOB3dCAADMgc8Hd0IAAIZd0Ad3QgAAvAkbCHdCAAB25RsId0IAADDBHAh3QgAA6pwdCHdCAACkeB4Id0IAAF5UHwh3QgAAGDAgCHdCAADSCyEId0IAAHxvbQh3QgAANktuCHdCAADwJm8Id0IAAKoCcAh3QgAAliaqCXdCAABU/QUKd0IAADxsCQp3QgAAJNsMCndCAABcFk4Kd0IAACz0VAp3QgAApjWoCndCAACOpKsKd0IAADDvrwp3QgAA6sqwCndCAACMFbUKd0IAAOzw8At3QgAA1F/0C3dCAAB2qvgLd0IAAEaI/wt3QgAAfsNADHdCAADw60sMd0IAAA4Hmgx3QgAAyOKaDHdCAACCvpsMd0IAAPZ1nQx3QgAADHijDHdCAACK1+MMd0IAAP6O5Qx3QgAAckbnDHdCAABYJvQMd0IAANaFNA13QgAASj02DXdCAAC+9DcNd0IAAOyHOg13QgAAYD88DXdCAAAaGz0Nd0IAANT2PQ13QgAAvGVBDXdCAABGH0kNd0IAAHLdMA53QgAALLkxDndCAACgcDMOd0IAAFpMNA53QgAAFCg1DndCAADOAzYOd0IAAIjfNg53QgAAQrs3DndCAAD8ljgOd0IAALZyOQ53QgAAcE46DndCAAAqKjsOd0IAAOQFPA53QgAAnuE8DndCAABYvT0Od0IAABKZPg53QgAAzHQ/DndCAACGUEAOd0IAAErUfw53QgAA3KbPDndCAADwGd8Od0IAAAYc5Q53QgAAVugiD3dCAADGgTcPd0IAAFxydA93QgAAFk51D3dCAABYVIcPd0IAABIwiA93QgAAhueJD3dCAACco2sQd0IAABBbbRB3QgAAyjZuEHdCAACEEm8Qd0IAAPjJcBB3QgAAsqVxEHdCAAAmXXMQd0IAAA7MdhB3QgAAgoN4EHdCAAA8X3kQd0IAALAWexB3QgAAavJ7EHdCAACYhX4Qd0IAAFJhfxB3QgAADD2AEHdCAADGGIEQd0IAAObCxRB3QgAAWOvQEHdCAAASx9EQd0IAAJAmEhF3QgAAXnUiEXdCAABG5CURd0IAAPLWaBF3QgAACNluEXdCAACcOrURd0IAAE7a2xF3QgAA3GusEndCAAAecr4Sd0IAAAbhwRJ3QgAA3tcQE3dCAADOX1wTd0IAABL1ZBN3QgAAhqxmE3dCAAAaDq0Td0IAAHY0shN3QgAApMe0E3dCAAA4KfsTd0IAAGa8/RN3QgAAIJj+E3dCAACUTwAUd0IAAAgHAhR3QgAAwuICFHdCAAB8vgMUd0IAAPB1BRR3QgAAqlEGFHdCAADY5AgUd0IAAEycChR3QgAABngLFHdCAAAyNvMUd0IAABql9hR3QgAA1ID3FHdCAACOXPgUd0IAAAIU+hR3QgAApF7+FHdCAADS8QAVd0IAAEapAhV3QgAAxAhDFXdCAAAGD1UVd0IAAJjhpBV3QgAAUr2lFXdCAACG2vkVd0IAAELcOhd3QgAAngJAF3dCAAAw1Y8Xd0IAAOqwkBd3QgAAXmiSF3dCAAAYRJMXd0IAAIz7lBd3QgAAlqPTF3dCAADENtYXd0IAAJQU3Rd3QgAAJucsGHdCAADeMzcYd0IAAMaiOhh3QgAAmjV4GXdCAACkuiQad0IAAF6WJRp3QgAAGHImGndCAADSTScad0IAAIwpKBp3QgAARgUpGndCAADK7road0IAAODwwBp3QgAAOLO0G3dCAADGZxccd0IAAMzxaBx3QgAAhs1pHHdCAAACNf0dd0IAALCTpB53QgAAJEumHndCAADeJqced0IAAJgCqB53QgAAUt6oHndCAAAMuqked0IAAMaVqh53QgAAjIVOH3dCAABGYU8fd0IAAP5nNSB3QgAA/Ng+IHdCAACQOoUgd0IAAOxgiiB3QgAA6tGTIHdCAACkrZQgd0IAABhlliB3QgAAjByYIHdCAABG+Jggd0IAADgP2yB3QgAAfKTjIHdCAADGwz0hd0IAAFKjhSJ3QgAAxlqHIndCAAByTcoid0IAAIbA2SJ3QgAApNsnI3dCAADSbiojd0IAAEYmLCN3QgAABox+I3dCAAAOpcYjd0IAAMiAxyN3QgAAglzII3dCAACw78ojd0IAAFI6zyN3QgAAxvHQI3dCAABqYhUld0IAAOYyXyV3QgAAWupgJXdCAAAUxmEld0IAAM6hYiV3QgAAiH1jJXdCAABCWWQld0IAABI3ayV3QgAAzBJsJXdCAACG7mwld0IAADLhryV3QgAAAlYAJ3dCAADc20Und0IAAJa3Rid3QgAANnNUJ3dCAABMdVond0IAAAZRWyd3QgAAytSaJ3dCAAA8/aUnd0IAALC0pyd3QgAAxratJ3dCAACONUgod0IAAKQ3Tih3QgAAksfsKXdCAADMbpIqd0IAACq71yt3QgAA5JbYK3dCAADMBdwrd0IAAIbh3Ct3QgAABEEdLHdCAACO+iQsd0IAAEZHLyx3QgAAlIR2LHdCAAAGrYEsd0IAABBVwCx3QgAAfIrDLXdCAAA2ZsQtd0IAAExoyi13QgAARAleLndCAAASWG4ud0IAAEZ1wi53QgAAfCENL3dCAACSIxMvd0IAABKGATF3QgAACC/oMndCAACckC4zd0IAAFjYkzN3QgAAUuWLNHdCAAAc8xw1d0IAAHaKKzV3QgAAAP4ONndCAAC62Q82d0IAAHS1EDZ3QgAALpERNndCAADobBI2d0IAAKJIEzZ3QgAAXCQUNndCAAAWABU2d0IAANDbFTZ3QgAAircWNndCAABEkxc2d0IAAP5uGDZ3QgAAuEoZNndCAAByJho2d0IAACwCGzZ3QgAA5t0bNndCAACguRw2d0IAAFqVHTZ3QgAAFHEeNndCAADOTB82d0IAAPLxvjZ3QgAAws/FNndCAADwYsg2d0IAADwRGTd3QgAA3lsdN3dCAABEKmE3d0IAAOTlbjd3QgAAkkQWOHdCAAD6oVA4d0IAALR9UTh3QgAAbllSOHdCAAAoNVM4d0IAAOIQVDh3QgAAnOxUOHdCAABWyFU4d0IAABCkVjh3QgAAyn9XOHdCAABKS/w4d0IAAOyVADl3QgAAYE0COXdCAAAaKQM5d0IAANQEBDl3QgAAjuAEOXdCAABIvAU5d0IAALxzBzl3QgAACCJYOXdCAADC/Vg5d0IAAHzZWTl3QgAANrVaOXdCAADwkFs5d0IAAKpsXDl3QgAAZEhdOXdCAAAeJF45d0IAANj/Xjl3QgAAJK6vOXdCAABYywM6d0IAAHh1SDp3QgAA6p1TOndCAAAYMVY6d0IAAHKCQDt3QgAAXuyeO3dCAADCK+w7d0IAAMYmRzx3QgAA3k6NPXdCAACaUM4+d0IAAOQGckB3QgAAWL5zQHdCAAB22cFAd0IAAFaAokJ3QgAAEFyjQndCAABG5VtDd0IAAHKjQ0R3QgAAcBRNRHdCAACGFlNEd0IAAF4NokR3QgAAGOmiRHdCAABGfKVEd0IAAObxjkV3QgAAEo3kRndCAADUgS1Hd0IAAAwxJkl3QgAAkBq4SXdCAABK9rhJd0IAAATSuUl3QgAAvq26SXdCAAB4ibtJd0IAADJlvEl3QgAAYPi+SXdCAAAa1L9Jd0IAANSvwEl3QgAASGfCSXdCAAACQ8NJd0IAALwexEl3QgAAdvrESXdCAAAw1sVJd0IAAKSNx0l3QgAAXmnISXdCAAAYRclJd0IAANIgykl3QgAAjPzKSXdCAABG2MtJd0IAAAY+Hkp3QgAApLtaTHdCAABQRedNd0IAAMT86E13QgAAOLTqTXdCAAB8SfNNd0IAAGS49k13QgAAgtNETndCAAD2ikZOd0IAACQeSU53QgAAxmhNTndCAAAWNYtOd0IAALbwmE53QgAATFWNUHdCAAAkTNxQd0IAANyAVVR3QgAAllxWVHdCAABQOFdUd0IAAAoUWFR3QgAAxO9YVHdCAAB+y1lUd0IAADinWlR3QgAA8oJbVHdCAAB8PGNUd0IAAJzmp1R3QgAAVsKoVHdCAAAQnqlUd0IAAIRVq1R3QgAAsuitVHdCAABsxK5Ud0IAAFQzslR3QgAADg+zVHdCAACCxrRUd0IAADyitVR3QgAAsFm3VHdCAABqNbhUd0IAAN7suVR3QgAAUqS7VHdCAAASCg5Vd0IAAEpFT1V3QgAAHEmWVndCAADWJJdWd0IAAAiz9FZ3QgAAfGr2VndCAAAetfpWd0IAANiQ+1Z3QgAAQlqaV3dCAACcq4RYd0IAAFaHhVh3QgAAFu3XWHdCAAD8zORYd0IAAHCE5lh3QgAAHHcpWXdCAADSND1Zd0IAAGwg1Vl3QgAA3HPFWndCAACc2Rdbd0IAAMpsGlt3QgAAcLJ5W3dCAABKOL9bd0IAAHjLwVt3QgAAMqfCW3dCAADsgsNbd0IAAKZexFt3QgAAYDrFW3dCAAAaFsZbd0IAAI7Nx1t3QgAASKnIW3dCAAAChclbd0IAALxgylt3QgAAdjzLW3dCAAAwGMxbd0IAAOrzzFt3QgAAGIfPW3dCAADSYtBbd0IAAIw+0Vt3QgAARhrSW3dCAABOMxpcd0IAAErPCF13QgAA3KFYXXdCAACyCbFdd0IAAGzlsV13QgAAVFS1XXdCAAA8w7hdd0IAAPaeuV13QgAAala7XXdCAAAkMrxdd0IAAFLFvl13QgAAxnzAXXdCAAAy1VVed0IAAKaMV153QgAAYGhYXndCAAAaRFled0IAALyOXV53QgAAMEZfXndCAADqIWBed0IAANKQY153QgAAjGxkXndCAABcBEdfd0IAALabVV93QgAAnMyHYXdCAACWcMljd0IAAJJS3GN3QgAAxm8wZHdCAABGO9Vkd0IAAI6FFGZ3QgAAfg1gZndCAACsoGJmd0IAAAY4cWZ3QgAAXI4AZ3dCAAAWagFnd0IAAIYDFmd3QgAAQgVXaHdCAAAci5xod0IAANZmnWh3QgAAkEKeaHdCAABKHp9od0IAAAT6n2h3QgAAvtWgaHdCAAB4saFod0IAADKNomh3QgAAqj//aHdCAABkGwBpd0IAAB73AGl3QgAA2NIBaXdCAABMigNpd0IAAAZmBGl3QgAAnO2KandCAABWyYtqd0IAALLvkGp3QgAADhaWandCAADGYqBqd0IAABYv3mp3QgAA0ArfandCAAD+neFqd0IAAHJV42p3QgAALDHkandCAADOe+hqd0IAAFg18Gp3QgAAEhHxandCAAAcuS9rd0IAAFBtzWx3QgAAwpXYbHdCAACqBNxsd0IAABDTH213QgAAPmYibXdCAAAq0IBtd0IAABznwm13QgAAShEPb3dCAAB2FRtvd0IAANzjXm93QgAAfi5jb3dCAAA4CmRvd0IAAHyfbG93QgAABll0b3dCAACcSbFvd0IAAIIpvm93QgAAhiQZcHdCAAAcrJ9xd0IAADKupXF3QgAA1PipcXdCAACW7fJxd0IAAFzdlnJ3QgAALLudcndCAAC2dKVyd0IAAOQHqHJ3QgAAhlKscndC\",\"dtype\":\"float64\",\"order\":\"little\",\"shape\":[4323]}},\"selected\":{\"id\":\"1223\"},\"selection_policy\":{\"id\":\"1248\"}},\"id\":\"1222\",\"type\":\"ColumnDataSource\"},{\"attributes\":{\"num_minor_ticks\":5,\"tickers\":[{\"id\":\"1251\"},{\"id\":\"1252\"},{\"id\":\"1253\"},{\"id\":\"1254\"},{\"id\":\"1255\"},{\"id\":\"1256\"},{\"id\":\"1257\"},{\"id\":\"1258\"},{\"id\":\"1259\"},{\"id\":\"1260\"},{\"id\":\"1261\"},{\"id\":\"1262\"}]},\"id\":\"1202\",\"type\":\"DatetimeTicker\"},{\"attributes\":{\"coordinates\":null,\"data_source\":{\"id\":\"1222\"},\"glyph\":{\"id\":\"1225\"},\"group\":null,\"hover_glyph\":null,\"muted_glyph\":{\"id\":\"1227\"},\"nonselection_glyph\":{\"id\":\"1226\"},\"selection_glyph\":{\"id\":\"1230\"},\"view\":{\"id\":\"1229\"}},\"id\":\"1228\",\"type\":\"GlyphRenderer\"},{\"attributes\":{\"coordinates\":null,\"group\":null,\"text_color\":\"black\",\"text_font_size\":\"12pt\"},\"id\":\"1193\",\"type\":\"Title\"},{\"attributes\":{},\"id\":\"1233\",\"type\":\"AllLabels\"},{\"attributes\":{\"source\":{\"id\":\"1222\"}},\"id\":\"1229\",\"type\":\"CDSView\"},{\"attributes\":{\"axis\":{\"id\":\"1201\"},\"coordinates\":null,\"grid_line_color\":null,\"group\":null,\"ticker\":null},\"id\":\"1204\",\"type\":\"Grid\"},{\"attributes\":{\"line_color\":\"#30a2da\",\"line_width\":2,\"x\":{\"field\":\"date\"},\"y\":{\"field\":\"close\"}},\"id\":\"1230\",\"type\":\"Line\"},{\"attributes\":{\"axis_label\":\"date\",\"coordinates\":null,\"formatter\":{\"id\":\"1232\"},\"group\":null,\"major_label_policy\":{\"id\":\"1233\"},\"ticker\":{\"id\":\"1202\"}},\"id\":\"1201\",\"type\":\"DatetimeAxis\"},{\"attributes\":{\"axis_label\":\"close\",\"coordinates\":null,\"formatter\":{\"id\":\"1235\"},\"group\":null,\"major_label_policy\":{\"id\":\"1236\"},\"ticker\":{\"id\":\"1206\"}},\"id\":\"1205\",\"type\":\"LinearAxis\"},{\"attributes\":{},\"id\":\"1236\",\"type\":\"AllLabels\"},{\"attributes\":{\"axis\":{\"id\":\"1205\"},\"coordinates\":null,\"dimension\":1,\"grid_line_color\":null,\"group\":null,\"ticker\":null},\"id\":\"1208\",\"type\":\"Grid\"},{\"attributes\":{},\"id\":\"1206\",\"type\":\"BasicTicker\"},{\"attributes\":{\"line_alpha\":0.1,\"line_color\":\"#30a2da\",\"line_width\":2,\"x\":{\"field\":\"date\"},\"y\":{\"field\":\"close\"}},\"id\":\"1226\",\"type\":\"Line\"},{\"attributes\":{\"children\":[{\"id\":\"1192\"}],\"height\":300,\"margin\":[0,0,0,0],\"name\":\"Row00962\",\"sizing_mode\":\"fixed\",\"tags\":[\"embedded\"],\"width\":700},\"id\":\"1188\",\"type\":\"Row\"},{\"attributes\":{},\"id\":\"1209\",\"type\":\"SaveTool\"},{\"attributes\":{\"mantissas\":[1,2,5],\"max_interval\":500.0,\"num_minor_ticks\":0},\"id\":\"1251\",\"type\":\"AdaptiveTicker\"},{\"attributes\":{},\"id\":\"1210\",\"type\":\"PanTool\"},{\"attributes\":{},\"id\":\"1211\",\"type\":\"WheelZoomTool\"},{\"attributes\":{\"overlay\":{\"id\":\"1214\"}},\"id\":\"1212\",\"type\":\"BoxZoomTool\"},{\"attributes\":{\"base\":60,\"mantissas\":[1,2,5,10,15,20,30],\"max_interval\":1800000.0,\"min_interval\":1000.0,\"num_minor_ticks\":0},\"id\":\"1252\",\"type\":\"AdaptiveTicker\"},{\"attributes\":{},\"id\":\"1213\",\"type\":\"ResetTool\"},{\"attributes\":{\"months\":[0,1,2,3,4,5,6,7,8,9,10,11]},\"id\":\"1258\",\"type\":\"MonthsTicker\"},{\"attributes\":{\"bottom_units\":\"screen\",\"coordinates\":null,\"fill_alpha\":0.5,\"fill_color\":\"lightgrey\",\"group\":null,\"left_units\":\"screen\",\"level\":\"overlay\",\"line_alpha\":1.0,\"line_color\":\"black\",\"line_dash\":[4,4],\"line_width\":2,\"right_units\":\"screen\",\"syncable\":false,\"top_units\":\"screen\"},\"id\":\"1214\",\"type\":\"BoxAnnotation\"},{\"attributes\":{\"days\":[1,8,15,22]},\"id\":\"1256\",\"type\":\"DaysTicker\"},{\"attributes\":{},\"id\":\"1262\",\"type\":\"YearsTicker\"},{\"attributes\":{\"base\":24,\"mantissas\":[1,2,4,6,8,12],\"max_interval\":43200000.0,\"min_interval\":3600000.0,\"num_minor_ticks\":0},\"id\":\"1253\",\"type\":\"AdaptiveTicker\"},{\"attributes\":{\"days\":[1,2,3,4,5,6,7,8,9,10,11,12,13,14,15,16,17,18,19,20,21,22,23,24,25,26,27,28,29,30,31]},\"id\":\"1254\",\"type\":\"DaysTicker\"},{\"attributes\":{\"days\":[1,4,7,10,13,16,19,22,25,28]},\"id\":\"1255\",\"type\":\"DaysTicker\"},{\"attributes\":{\"days\":[1,15]},\"id\":\"1257\",\"type\":\"DaysTicker\"},{\"attributes\":{\"months\":[0,6]},\"id\":\"1261\",\"type\":\"MonthsTicker\"},{\"attributes\":{\"months\":[0,2,4,6,8,10]},\"id\":\"1259\",\"type\":\"MonthsTicker\"},{\"attributes\":{\"active_drag\":{\"id\":\"1210\"},\"active_scroll\":{\"id\":\"1211\"},\"tools\":[{\"id\":\"1191\"},{\"id\":\"1209\"},{\"id\":\"1210\"},{\"id\":\"1211\"},{\"id\":\"1212\"},{\"id\":\"1213\"}]},\"id\":\"1215\",\"type\":\"Toolbar\"},{\"attributes\":{\"end\":35.076,\"reset_end\":35.076,\"reset_start\":16.163999999999998,\"start\":16.163999999999998,\"tags\":[[[\"close\",\"close\",null]]]},\"id\":\"1190\",\"type\":\"Range1d\"},{\"attributes\":{},\"id\":\"1223\",\"type\":\"Selection\"},{\"attributes\":{\"months\":[0,4,8]},\"id\":\"1260\",\"type\":\"MonthsTicker\"},{\"attributes\":{},\"id\":\"1197\",\"type\":\"LinearScale\"},{\"attributes\":{},\"id\":\"1232\",\"type\":\"DatetimeTickFormatter\"},{\"attributes\":{\"line_color\":\"#30a2da\",\"line_width\":2,\"x\":{\"field\":\"date\"},\"y\":{\"field\":\"close\"}},\"id\":\"1225\",\"type\":\"Line\"},{\"attributes\":{\"end\":1611330300000.0,\"reset_end\":1611330300000.0,\"reset_start\":1421832600000.0,\"start\":1421832600000.0,\"tags\":[[[\"date\",\"date\",null]]]},\"id\":\"1189\",\"type\":\"Range1d\"},{\"attributes\":{\"line_alpha\":0.2,\"line_color\":\"#30a2da\",\"line_width\":2,\"x\":{\"field\":\"date\"},\"y\":{\"field\":\"close\"}},\"id\":\"1227\",\"type\":\"Line\"}],\"root_ids\":[\"1188\"]},\"title\":\"Bokeh Application\",\"version\":\"2.4.3\"}};\n",
       "    var render_items = [{\"docid\":\"fad1076d-630c-4baf-b248-3ec4a8cbadb9\",\"root_ids\":[\"1188\"],\"roots\":{\"1188\":\"358f0523-6cc0-41f8-b14d-32b5b81a863f\"}}];\n",
       "    root.Bokeh.embed.embed_items_notebook(docs_json, render_items);\n",
       "    for (const render_item of render_items) {\n",
       "      for (const root_id of render_item.root_ids) {\n",
       "\tconst id_el = document.getElementById(root_id)\n",
       "\tif (id_el.children.length && (id_el.children[0].className === 'bk-root')) {\n",
       "\t  const root_el = id_el.children[0]\n",
       "\t  root_el.id = root_el.id + '-rendered'\n",
       "\t}\n",
       "      }\n",
       "    }\n",
       "  }\n",
       "  if (root.Bokeh !== undefined && root.Bokeh.Panel !== undefined) {\n",
       "    embed_document(root);\n",
       "  } else {\n",
       "    var attempts = 0;\n",
       "    var timer = setInterval(function(root) {\n",
       "      if (root.Bokeh !== undefined && root.Bokeh.Panel !== undefined) {\n",
       "        clearInterval(timer);\n",
       "        embed_document(root);\n",
       "      } else if (document.readyState == \"complete\") {\n",
       "        attempts++;\n",
       "        if (attempts > 200) {\n",
       "          clearInterval(timer);\n",
       "          console.log(\"Bokeh: ERROR: Unable to run BokehJS code because BokehJS library is missing\");\n",
       "        }\n",
       "      }\n",
       "    }, 25, root)\n",
       "  }\n",
       "})(window);</script>"
      ],
      "text/plain": [
       ":Curve   [date]   (close)"
      ]
     },
     "execution_count": 128,
     "metadata": {
      "application/vnd.holoviews_exec.v0+json": {
       "id": "1188"
      }
     },
     "output_type": "execute_result"
    }
   ],
   "source": [
    "# Use hvplot to visualize the data\n",
    "signals_df.hvplot()"
   ]
  },
  {
   "cell_type": "code",
   "execution_count": 129,
   "id": "31404072-e388-4a4a-938b-a5b561b1b857",
   "metadata": {},
   "outputs": [
    {
     "data": {
      "text/html": [
       "<div>\n",
       "<style scoped>\n",
       "    .dataframe tbody tr th:only-of-type {\n",
       "        vertical-align: middle;\n",
       "    }\n",
       "\n",
       "    .dataframe tbody tr th {\n",
       "        vertical-align: top;\n",
       "    }\n",
       "\n",
       "    .dataframe thead th {\n",
       "        text-align: right;\n",
       "    }\n",
       "</style>\n",
       "<table border=\"1\" class=\"dataframe\">\n",
       "  <thead>\n",
       "    <tr style=\"text-align: right;\">\n",
       "      <th></th>\n",
       "      <th>close</th>\n",
       "      <th>actual_returns</th>\n",
       "    </tr>\n",
       "    <tr>\n",
       "      <th>date</th>\n",
       "      <th></th>\n",
       "      <th></th>\n",
       "    </tr>\n",
       "  </thead>\n",
       "  <tbody>\n",
       "    <tr>\n",
       "      <th>2015-01-21 09:30:00</th>\n",
       "      <td>23.83</td>\n",
       "      <td>NaN</td>\n",
       "    </tr>\n",
       "    <tr>\n",
       "      <th>2015-01-21 11:00:00</th>\n",
       "      <td>23.98</td>\n",
       "      <td>0.006295</td>\n",
       "    </tr>\n",
       "    <tr>\n",
       "      <th>2015-01-22 15:00:00</th>\n",
       "      <td>24.42</td>\n",
       "      <td>0.018349</td>\n",
       "    </tr>\n",
       "    <tr>\n",
       "      <th>2015-01-22 15:15:00</th>\n",
       "      <td>24.44</td>\n",
       "      <td>0.000819</td>\n",
       "    </tr>\n",
       "    <tr>\n",
       "      <th>2015-01-22 15:30:00</th>\n",
       "      <td>24.46</td>\n",
       "      <td>0.000818</td>\n",
       "    </tr>\n",
       "  </tbody>\n",
       "</table>\n",
       "</div>"
      ],
      "text/plain": [
       "                     close  actual_returns\n",
       "date                                      \n",
       "2015-01-21 09:30:00  23.83             NaN\n",
       "2015-01-21 11:00:00  23.98        0.006295\n",
       "2015-01-22 15:00:00  24.42        0.018349\n",
       "2015-01-22 15:15:00  24.44        0.000819\n",
       "2015-01-22 15:30:00  24.46        0.000818"
      ]
     },
     "execution_count": 129,
     "metadata": {},
     "output_type": "execute_result"
    }
   ],
   "source": [
    "# Calculate the daily returns using the closing prices and the pct_change function\n",
    "signals_df[\"actual_returns\"] = signals_df[\"close\"].pct_change()\n",
    "\n",
    "# Display sample data\n",
    "signals_df.head()"
   ]
  },
  {
   "cell_type": "code",
   "execution_count": 130,
   "id": "ef64c872-0aee-44b5-9bfb-29bb18e1d0bc",
   "metadata": {},
   "outputs": [],
   "source": [
    "# Set the variables for short window and long window periods\n",
    "short_window = 4\n",
    "long_window = 100"
   ]
  },
  {
   "cell_type": "code",
   "execution_count": 131,
   "id": "a46aa136-421c-41ec-baf9-87c596d49b14",
   "metadata": {},
   "outputs": [
    {
     "data": {
      "text/html": [
       "<div>\n",
       "<style scoped>\n",
       "    .dataframe tbody tr th:only-of-type {\n",
       "        vertical-align: middle;\n",
       "    }\n",
       "\n",
       "    .dataframe tbody tr th {\n",
       "        vertical-align: top;\n",
       "    }\n",
       "\n",
       "    .dataframe thead th {\n",
       "        text-align: right;\n",
       "    }\n",
       "</style>\n",
       "<table border=\"1\" class=\"dataframe\">\n",
       "  <thead>\n",
       "    <tr style=\"text-align: right;\">\n",
       "      <th></th>\n",
       "      <th>close</th>\n",
       "      <th>actual_returns</th>\n",
       "      <th>SMA4</th>\n",
       "      <th>SMA100</th>\n",
       "    </tr>\n",
       "    <tr>\n",
       "      <th>date</th>\n",
       "      <th></th>\n",
       "      <th></th>\n",
       "      <th></th>\n",
       "      <th></th>\n",
       "    </tr>\n",
       "  </thead>\n",
       "  <tbody>\n",
       "    <tr>\n",
       "      <th>2015-01-21 09:30:00</th>\n",
       "      <td>23.83</td>\n",
       "      <td>NaN</td>\n",
       "      <td>NaN</td>\n",
       "      <td>NaN</td>\n",
       "    </tr>\n",
       "    <tr>\n",
       "      <th>2015-01-21 11:00:00</th>\n",
       "      <td>23.98</td>\n",
       "      <td>0.006295</td>\n",
       "      <td>NaN</td>\n",
       "      <td>NaN</td>\n",
       "    </tr>\n",
       "    <tr>\n",
       "      <th>2015-01-22 15:00:00</th>\n",
       "      <td>24.42</td>\n",
       "      <td>0.018349</td>\n",
       "      <td>NaN</td>\n",
       "      <td>NaN</td>\n",
       "    </tr>\n",
       "    <tr>\n",
       "      <th>2015-01-22 15:15:00</th>\n",
       "      <td>24.44</td>\n",
       "      <td>0.000819</td>\n",
       "      <td>24.1675</td>\n",
       "      <td>NaN</td>\n",
       "    </tr>\n",
       "    <tr>\n",
       "      <th>2015-01-22 15:30:00</th>\n",
       "      <td>24.46</td>\n",
       "      <td>0.000818</td>\n",
       "      <td>24.3250</td>\n",
       "      <td>NaN</td>\n",
       "    </tr>\n",
       "  </tbody>\n",
       "</table>\n",
       "</div>"
      ],
      "text/plain": [
       "                     close  actual_returns     SMA4  SMA100\n",
       "date                                                       \n",
       "2015-01-21 09:30:00  23.83             NaN      NaN     NaN\n",
       "2015-01-21 11:00:00  23.98        0.006295      NaN     NaN\n",
       "2015-01-22 15:00:00  24.42        0.018349      NaN     NaN\n",
       "2015-01-22 15:15:00  24.44        0.000819  24.1675     NaN\n",
       "2015-01-22 15:30:00  24.46        0.000818  24.3250     NaN"
      ]
     },
     "metadata": {},
     "output_type": "display_data"
    },
    {
     "data": {
      "text/html": [
       "<div>\n",
       "<style scoped>\n",
       "    .dataframe tbody tr th:only-of-type {\n",
       "        vertical-align: middle;\n",
       "    }\n",
       "\n",
       "    .dataframe tbody tr th {\n",
       "        vertical-align: top;\n",
       "    }\n",
       "\n",
       "    .dataframe thead th {\n",
       "        text-align: right;\n",
       "    }\n",
       "</style>\n",
       "<table border=\"1\" class=\"dataframe\">\n",
       "  <thead>\n",
       "    <tr style=\"text-align: right;\">\n",
       "      <th></th>\n",
       "      <th>close</th>\n",
       "      <th>actual_returns</th>\n",
       "      <th>SMA4</th>\n",
       "      <th>SMA100</th>\n",
       "    </tr>\n",
       "    <tr>\n",
       "      <th>date</th>\n",
       "      <th></th>\n",
       "      <th></th>\n",
       "      <th></th>\n",
       "      <th></th>\n",
       "    </tr>\n",
       "  </thead>\n",
       "  <tbody>\n",
       "    <tr>\n",
       "      <th>2021-01-22 09:30:00</th>\n",
       "      <td>33.27</td>\n",
       "      <td>-0.006866</td>\n",
       "      <td>33.2025</td>\n",
       "      <td>30.40215</td>\n",
       "    </tr>\n",
       "    <tr>\n",
       "      <th>2021-01-22 11:30:00</th>\n",
       "      <td>33.35</td>\n",
       "      <td>0.002405</td>\n",
       "      <td>33.2725</td>\n",
       "      <td>30.44445</td>\n",
       "    </tr>\n",
       "    <tr>\n",
       "      <th>2021-01-22 13:45:00</th>\n",
       "      <td>33.42</td>\n",
       "      <td>0.002099</td>\n",
       "      <td>33.3850</td>\n",
       "      <td>30.48745</td>\n",
       "    </tr>\n",
       "    <tr>\n",
       "      <th>2021-01-22 14:30:00</th>\n",
       "      <td>33.47</td>\n",
       "      <td>0.001496</td>\n",
       "      <td>33.3775</td>\n",
       "      <td>30.53085</td>\n",
       "    </tr>\n",
       "    <tr>\n",
       "      <th>2021-01-22 15:45:00</th>\n",
       "      <td>33.44</td>\n",
       "      <td>-0.000896</td>\n",
       "      <td>33.4200</td>\n",
       "      <td>30.57495</td>\n",
       "    </tr>\n",
       "  </tbody>\n",
       "</table>\n",
       "</div>"
      ],
      "text/plain": [
       "                     close  actual_returns     SMA4    SMA100\n",
       "date                                                         \n",
       "2021-01-22 09:30:00  33.27       -0.006866  33.2025  30.40215\n",
       "2021-01-22 11:30:00  33.35        0.002405  33.2725  30.44445\n",
       "2021-01-22 13:45:00  33.42        0.002099  33.3850  30.48745\n",
       "2021-01-22 14:30:00  33.47        0.001496  33.3775  30.53085\n",
       "2021-01-22 15:45:00  33.44       -0.000896  33.4200  30.57495"
      ]
     },
     "metadata": {},
     "output_type": "display_data"
    }
   ],
   "source": [
    "# Generate the short and long window simple moving averages (4 and 100 days, respectively)\n",
    "signals_df[\"SMA4\"] = signals_df[\"close\"].rolling(window=short_window).mean()\n",
    "signals_df[\"SMA100\"] = signals_df[\"close\"].rolling(window=long_window).mean()\n",
    "\n",
    "# Review the DataFrame\n",
    "display(signals_df.head())\n",
    "display(signals_df.tail())"
   ]
  },
  {
   "cell_type": "code",
   "execution_count": 132,
   "id": "29a3a20f-5ce1-43b7-9005-9f8ba8245dee",
   "metadata": {},
   "outputs": [],
   "source": [
    "# Drop the NaNs using dropna()\n",
    "signals_df = signals_df.dropna()"
   ]
  },
  {
   "cell_type": "code",
   "execution_count": 133,
   "id": "a2350adb-5142-4c79-af98-d882c20e72f5",
   "metadata": {},
   "outputs": [
    {
     "data": {
      "text/html": [
       "<div>\n",
       "<style scoped>\n",
       "    .dataframe tbody tr th:only-of-type {\n",
       "        vertical-align: middle;\n",
       "    }\n",
       "\n",
       "    .dataframe tbody tr th {\n",
       "        vertical-align: top;\n",
       "    }\n",
       "\n",
       "    .dataframe thead th {\n",
       "        text-align: right;\n",
       "    }\n",
       "</style>\n",
       "<table border=\"1\" class=\"dataframe\">\n",
       "  <thead>\n",
       "    <tr style=\"text-align: right;\">\n",
       "      <th></th>\n",
       "      <th>SMA4</th>\n",
       "      <th>SMA100</th>\n",
       "    </tr>\n",
       "    <tr>\n",
       "      <th>date</th>\n",
       "      <th></th>\n",
       "      <th></th>\n",
       "    </tr>\n",
       "  </thead>\n",
       "  <tbody>\n",
       "    <tr>\n",
       "      <th>2015-04-02 14:30:00</th>\n",
       "      <td>24.9200</td>\n",
       "      <td>24.3105</td>\n",
       "    </tr>\n",
       "    <tr>\n",
       "      <th>2015-04-02 14:45:00</th>\n",
       "      <td>24.9175</td>\n",
       "      <td>24.3214</td>\n",
       "    </tr>\n",
       "    <tr>\n",
       "      <th>2015-04-02 15:00:00</th>\n",
       "      <td>24.9200</td>\n",
       "      <td>24.3308</td>\n",
       "    </tr>\n",
       "    <tr>\n",
       "      <th>2015-04-02 15:15:00</th>\n",
       "      <td>24.9250</td>\n",
       "      <td>24.3360</td>\n",
       "    </tr>\n",
       "    <tr>\n",
       "      <th>2015-04-02 15:30:00</th>\n",
       "      <td>24.9325</td>\n",
       "      <td>24.3411</td>\n",
       "    </tr>\n",
       "  </tbody>\n",
       "</table>\n",
       "</div>"
      ],
      "text/plain": [
       "                        SMA4   SMA100\n",
       "date                                 \n",
       "2015-04-02 14:30:00  24.9200  24.3105\n",
       "2015-04-02 14:45:00  24.9175  24.3214\n",
       "2015-04-02 15:00:00  24.9200  24.3308\n",
       "2015-04-02 15:15:00  24.9250  24.3360\n",
       "2015-04-02 15:30:00  24.9325  24.3411"
      ]
     },
     "metadata": {},
     "output_type": "display_data"
    },
    {
     "data": {
      "text/html": [
       "<div>\n",
       "<style scoped>\n",
       "    .dataframe tbody tr th:only-of-type {\n",
       "        vertical-align: middle;\n",
       "    }\n",
       "\n",
       "    .dataframe tbody tr th {\n",
       "        vertical-align: top;\n",
       "    }\n",
       "\n",
       "    .dataframe thead th {\n",
       "        text-align: right;\n",
       "    }\n",
       "</style>\n",
       "<table border=\"1\" class=\"dataframe\">\n",
       "  <thead>\n",
       "    <tr style=\"text-align: right;\">\n",
       "      <th></th>\n",
       "      <th>SMA4</th>\n",
       "      <th>SMA100</th>\n",
       "    </tr>\n",
       "    <tr>\n",
       "      <th>date</th>\n",
       "      <th></th>\n",
       "      <th></th>\n",
       "    </tr>\n",
       "  </thead>\n",
       "  <tbody>\n",
       "    <tr>\n",
       "      <th>2021-01-22 09:30:00</th>\n",
       "      <td>33.2025</td>\n",
       "      <td>30.40215</td>\n",
       "    </tr>\n",
       "    <tr>\n",
       "      <th>2021-01-22 11:30:00</th>\n",
       "      <td>33.2725</td>\n",
       "      <td>30.44445</td>\n",
       "    </tr>\n",
       "    <tr>\n",
       "      <th>2021-01-22 13:45:00</th>\n",
       "      <td>33.3850</td>\n",
       "      <td>30.48745</td>\n",
       "    </tr>\n",
       "    <tr>\n",
       "      <th>2021-01-22 14:30:00</th>\n",
       "      <td>33.3775</td>\n",
       "      <td>30.53085</td>\n",
       "    </tr>\n",
       "    <tr>\n",
       "      <th>2021-01-22 15:45:00</th>\n",
       "      <td>33.4200</td>\n",
       "      <td>30.57495</td>\n",
       "    </tr>\n",
       "  </tbody>\n",
       "</table>\n",
       "</div>"
      ],
      "text/plain": [
       "                        SMA4    SMA100\n",
       "date                                  \n",
       "2021-01-22 09:30:00  33.2025  30.40215\n",
       "2021-01-22 11:30:00  33.2725  30.44445\n",
       "2021-01-22 13:45:00  33.3850  30.48745\n",
       "2021-01-22 14:30:00  33.3775  30.53085\n",
       "2021-01-22 15:45:00  33.4200  30.57495"
      ]
     },
     "metadata": {},
     "output_type": "display_data"
    }
   ],
   "source": [
    "# Assign a copy of the sma_fast and sma_slow columns to a new DataFrame called X\n",
    "X = signals_df[['SMA4', 'SMA100']].copy()\n",
    "\n",
    "# Display sample data\n",
    "display(X.head())\n",
    "display(X.tail())"
   ]
  },
  {
   "cell_type": "code",
   "execution_count": 134,
   "id": "10929ae4-9e64-4351-9c5b-dbef183c317c",
   "metadata": {},
   "outputs": [],
   "source": [
    "# Create a new column in the trading_df called signal setting its value to zero.\n",
    "signals_df['signal'] = 0.0"
   ]
  },
  {
   "cell_type": "code",
   "execution_count": 135,
   "id": "96b232dd-c839-496c-a72c-4462d3fcbe86",
   "metadata": {},
   "outputs": [],
   "source": [
    "# Create the signal to buy\n",
    "signals_df.loc[(signals_df['actual_returns'] >= 0), 'signal'] = 1"
   ]
  },
  {
   "cell_type": "code",
   "execution_count": 136,
   "id": "b9a7058a-ceb6-4394-8fe6-14369f6a8e5a",
   "metadata": {},
   "outputs": [],
   "source": [
    "# Create the signal to sell\n",
    "signals_df.loc[(signals_df['actual_returns'] < 0), 'signal'] = -1"
   ]
  },
  {
   "cell_type": "code",
   "execution_count": 137,
   "id": "ad30b8da-c24e-48bf-9eeb-5181da3999dc",
   "metadata": {},
   "outputs": [],
   "source": [
    "# Copy the new signal column to a new Series called y.\n",
    "y = signals_df['signal'].copy()"
   ]
  },
  {
   "cell_type": "code",
   "execution_count": 138,
   "id": "6d566aee-a362-4c7e-aaf5-6c8567f061ae",
   "metadata": {},
   "outputs": [
    {
     "name": "stdout",
     "output_type": "stream",
     "text": [
      "2015-04-02 14:30:00\n"
     ]
    }
   ],
   "source": [
    "from pandas.tseries.offsets import DateOffset\n",
    "# Select the start of the training period\n",
    "training_begin = X.index.min()\n",
    "\n",
    "# Display the training begin date\n",
    "print(training_begin)"
   ]
  },
  {
   "cell_type": "code",
   "execution_count": 139,
   "id": "662e49cb-dffc-4e23-8e18-d14a8cfb617b",
   "metadata": {},
   "outputs": [
    {
     "name": "stdout",
     "output_type": "stream",
     "text": [
      "2015-07-02 14:30:00\n"
     ]
    }
   ],
   "source": [
    "# Select the ending period for the training data with an offset of 3 months\n",
    "training_end = X.index.min() + DateOffset(months=3)\n",
    "\n",
    "# Display the training end date\n",
    "print(training_end)"
   ]
  },
  {
   "cell_type": "code",
   "execution_count": 140,
   "id": "4b1a834f-91dd-4be6-8d06-d72b0c42a4ac",
   "metadata": {},
   "outputs": [
    {
     "data": {
      "text/html": [
       "<div>\n",
       "<style scoped>\n",
       "    .dataframe tbody tr th:only-of-type {\n",
       "        vertical-align: middle;\n",
       "    }\n",
       "\n",
       "    .dataframe tbody tr th {\n",
       "        vertical-align: top;\n",
       "    }\n",
       "\n",
       "    .dataframe thead th {\n",
       "        text-align: right;\n",
       "    }\n",
       "</style>\n",
       "<table border=\"1\" class=\"dataframe\">\n",
       "  <thead>\n",
       "    <tr style=\"text-align: right;\">\n",
       "      <th></th>\n",
       "      <th>SMA4</th>\n",
       "      <th>SMA100</th>\n",
       "    </tr>\n",
       "    <tr>\n",
       "      <th>date</th>\n",
       "      <th></th>\n",
       "      <th></th>\n",
       "    </tr>\n",
       "  </thead>\n",
       "  <tbody>\n",
       "    <tr>\n",
       "      <th>2015-04-02 14:30:00</th>\n",
       "      <td>24.9200</td>\n",
       "      <td>24.3105</td>\n",
       "    </tr>\n",
       "    <tr>\n",
       "      <th>2015-04-02 14:45:00</th>\n",
       "      <td>24.9175</td>\n",
       "      <td>24.3214</td>\n",
       "    </tr>\n",
       "    <tr>\n",
       "      <th>2015-04-02 15:00:00</th>\n",
       "      <td>24.9200</td>\n",
       "      <td>24.3308</td>\n",
       "    </tr>\n",
       "    <tr>\n",
       "      <th>2015-04-02 15:15:00</th>\n",
       "      <td>24.9250</td>\n",
       "      <td>24.3360</td>\n",
       "    </tr>\n",
       "    <tr>\n",
       "      <th>2015-04-02 15:30:00</th>\n",
       "      <td>24.9325</td>\n",
       "      <td>24.3411</td>\n",
       "    </tr>\n",
       "  </tbody>\n",
       "</table>\n",
       "</div>"
      ],
      "text/plain": [
       "                        SMA4   SMA100\n",
       "date                                 \n",
       "2015-04-02 14:30:00  24.9200  24.3105\n",
       "2015-04-02 14:45:00  24.9175  24.3214\n",
       "2015-04-02 15:00:00  24.9200  24.3308\n",
       "2015-04-02 15:15:00  24.9250  24.3360\n",
       "2015-04-02 15:30:00  24.9325  24.3411"
      ]
     },
     "execution_count": 140,
     "metadata": {},
     "output_type": "execute_result"
    }
   ],
   "source": [
    "# Generate the X_train and y_train DataFrames\n",
    "X_train = X.loc[training_begin:training_end]\n",
    "y_train = y.loc[training_begin:training_end]\n",
    "\n",
    "# Display sample data\n",
    "X_train.head()"
   ]
  },
  {
   "cell_type": "code",
   "execution_count": 141,
   "id": "185c9fa6-a6b4-4967-accd-1f704bf6da62",
   "metadata": {},
   "outputs": [
    {
     "data": {
      "text/html": [
       "<div>\n",
       "<style scoped>\n",
       "    .dataframe tbody tr th:only-of-type {\n",
       "        vertical-align: middle;\n",
       "    }\n",
       "\n",
       "    .dataframe tbody tr th {\n",
       "        vertical-align: top;\n",
       "    }\n",
       "\n",
       "    .dataframe thead th {\n",
       "        text-align: right;\n",
       "    }\n",
       "</style>\n",
       "<table border=\"1\" class=\"dataframe\">\n",
       "  <thead>\n",
       "    <tr style=\"text-align: right;\">\n",
       "      <th></th>\n",
       "      <th>SMA4</th>\n",
       "      <th>SMA100</th>\n",
       "    </tr>\n",
       "    <tr>\n",
       "      <th>date</th>\n",
       "      <th></th>\n",
       "      <th></th>\n",
       "    </tr>\n",
       "  </thead>\n",
       "  <tbody>\n",
       "    <tr>\n",
       "      <th>2015-07-02 15:15:00</th>\n",
       "      <td>24.1300</td>\n",
       "      <td>25.1092</td>\n",
       "    </tr>\n",
       "    <tr>\n",
       "      <th>2015-07-02 15:45:00</th>\n",
       "      <td>24.1250</td>\n",
       "      <td>25.0919</td>\n",
       "    </tr>\n",
       "    <tr>\n",
       "      <th>2015-07-06 10:00:00</th>\n",
       "      <td>23.9700</td>\n",
       "      <td>25.0682</td>\n",
       "    </tr>\n",
       "    <tr>\n",
       "      <th>2015-07-06 10:45:00</th>\n",
       "      <td>23.8475</td>\n",
       "      <td>25.0458</td>\n",
       "    </tr>\n",
       "    <tr>\n",
       "      <th>2015-07-06 14:15:00</th>\n",
       "      <td>23.6725</td>\n",
       "      <td>25.0206</td>\n",
       "    </tr>\n",
       "  </tbody>\n",
       "</table>\n",
       "</div>"
      ],
      "text/plain": [
       "                        SMA4   SMA100\n",
       "date                                 \n",
       "2015-07-02 15:15:00  24.1300  25.1092\n",
       "2015-07-02 15:45:00  24.1250  25.0919\n",
       "2015-07-06 10:00:00  23.9700  25.0682\n",
       "2015-07-06 10:45:00  23.8475  25.0458\n",
       "2015-07-06 14:15:00  23.6725  25.0206"
      ]
     },
     "execution_count": 141,
     "metadata": {},
     "output_type": "execute_result"
    }
   ],
   "source": [
    "# Generate the X_test and y_test DataFrames\n",
    "X_test = X.loc[training_end:]\n",
    "y_test = y.loc[training_end:]\n",
    "\n",
    "# Display sample data\n",
    "X_test.head()"
   ]
  },
  {
   "cell_type": "code",
   "execution_count": 142,
   "id": "2aa18087-7cde-4cdf-8f33-c1b73ca09d17",
   "metadata": {},
   "outputs": [],
   "source": [
    "# Imports\n",
    "from sklearn.preprocessing import StandardScaler\n",
    "# Create a StandardScaler instance\n",
    "scaler = StandardScaler()\n",
    " \n",
    "# Apply the scaler model to fit the X-train data\n",
    "X_scaler = scaler.fit(X_train)\n",
    " \n",
    "# Transform the X_train and X_test DataFrames using the X_scaler\n",
    "X_train_scaled = X_scaler.transform(X_train)\n",
    "X_test_scaled = X_scaler.transform(X_test)"
   ]
  },
  {
   "cell_type": "code",
   "execution_count": 143,
   "id": "f80a268b-5177-45ed-8758-ffd3c1d055be",
   "metadata": {},
   "outputs": [
    {
     "data": {
      "text/plain": [
       "array([1., 1., 1., 1., 1., 1., 1., 1., 1., 1.])"
      ]
     },
     "execution_count": 143,
     "metadata": {},
     "output_type": "execute_result"
    }
   ],
   "source": [
    "# Imports\n",
    "from sklearn import svm\n",
    "from sklearn.metrics import classification_report\n",
    "\n",
    "# Create the classifier model\n",
    "svm_model = svm.SVC()\n",
    " \n",
    "# Fit the model to the data using X_train_scaled and y_train\n",
    "svm_model = svm_model.fit(X_train_scaled, y_train)\n",
    "\n",
    "# Use the trained model to predict the trading signals for the training data\n",
    "training_signal_predictions = svm_model.predict(X_train_scaled)\n",
    "\n",
    "# Display the sample predictions\n",
    "training_signal_predictions[:10]"
   ]
  },
  {
   "cell_type": "code",
   "execution_count": 144,
   "id": "136c4228-b007-4745-ac62-4cf77981c065",
   "metadata": {},
   "outputs": [
    {
     "name": "stdout",
     "output_type": "stream",
     "text": [
      "              precision    recall  f1-score   support\n",
      "\n",
      "        -1.0       0.00      0.00      0.00        49\n",
      "         1.0       0.62      1.00      0.77        81\n",
      "\n",
      "    accuracy                           0.62       130\n",
      "   macro avg       0.31      0.50      0.38       130\n",
      "weighted avg       0.39      0.62      0.48       130\n",
      "\n"
     ]
    },
    {
     "name": "stderr",
     "output_type": "stream",
     "text": [
      "C:\\Users\\nosta\\anaconda3\\envs\\dev\\lib\\site-packages\\sklearn\\metrics\\_classification.py:1344: UndefinedMetricWarning: Precision and F-score are ill-defined and being set to 0.0 in labels with no predicted samples. Use `zero_division` parameter to control this behavior.\n",
      "  _warn_prf(average, modifier, msg_start, len(result))\n",
      "C:\\Users\\nosta\\anaconda3\\envs\\dev\\lib\\site-packages\\sklearn\\metrics\\_classification.py:1344: UndefinedMetricWarning: Precision and F-score are ill-defined and being set to 0.0 in labels with no predicted samples. Use `zero_division` parameter to control this behavior.\n",
      "  _warn_prf(average, modifier, msg_start, len(result))\n",
      "C:\\Users\\nosta\\anaconda3\\envs\\dev\\lib\\site-packages\\sklearn\\metrics\\_classification.py:1344: UndefinedMetricWarning: Precision and F-score are ill-defined and being set to 0.0 in labels with no predicted samples. Use `zero_division` parameter to control this behavior.\n",
      "  _warn_prf(average, modifier, msg_start, len(result))\n"
     ]
    }
   ],
   "source": [
    "training_report = classification_report(y_train, training_signal_predictions)\n",
    "print(training_report)"
   ]
  },
  {
   "cell_type": "code",
   "execution_count": 145,
   "id": "7252e5b9-9e06-4f9f-baf2-50cc7d4537a8",
   "metadata": {},
   "outputs": [],
   "source": [
    "# Use the trained model to predict the trading signals for the testing data.\n",
    "testing_signal_predictions = svm_model.predict(X_test_scaled)"
   ]
  },
  {
   "cell_type": "code",
   "execution_count": 146,
   "id": "56c783d6-e361-4605-bc74-559bba0b71bf",
   "metadata": {},
   "outputs": [
    {
     "name": "stdout",
     "output_type": "stream",
     "text": [
      "              precision    recall  f1-score   support\n",
      "\n",
      "        -1.0       0.00      0.00      0.00      1806\n",
      "         1.0       0.56      1.00      0.72      2288\n",
      "\n",
      "    accuracy                           0.56      4094\n",
      "   macro avg       0.28      0.50      0.36      4094\n",
      "weighted avg       0.31      0.56      0.40      4094\n",
      "\n"
     ]
    },
    {
     "name": "stderr",
     "output_type": "stream",
     "text": [
      "C:\\Users\\nosta\\anaconda3\\envs\\dev\\lib\\site-packages\\sklearn\\metrics\\_classification.py:1344: UndefinedMetricWarning: Precision and F-score are ill-defined and being set to 0.0 in labels with no predicted samples. Use `zero_division` parameter to control this behavior.\n",
      "  _warn_prf(average, modifier, msg_start, len(result))\n",
      "C:\\Users\\nosta\\anaconda3\\envs\\dev\\lib\\site-packages\\sklearn\\metrics\\_classification.py:1344: UndefinedMetricWarning: Precision and F-score are ill-defined and being set to 0.0 in labels with no predicted samples. Use `zero_division` parameter to control this behavior.\n",
      "  _warn_prf(average, modifier, msg_start, len(result))\n",
      "C:\\Users\\nosta\\anaconda3\\envs\\dev\\lib\\site-packages\\sklearn\\metrics\\_classification.py:1344: UndefinedMetricWarning: Precision and F-score are ill-defined and being set to 0.0 in labels with no predicted samples. Use `zero_division` parameter to control this behavior.\n",
      "  _warn_prf(average, modifier, msg_start, len(result))\n"
     ]
    }
   ],
   "source": [
    "# Evaluate the model's ability to predict the trading signal for the testing data\n",
    "svm_testing_report = classification_report(y_test, testing_signal_predictions)\n",
    "print(svm_testing_report)"
   ]
  },
  {
   "cell_type": "code",
   "execution_count": 147,
   "id": "e6b0767c-1283-4697-ac15-febf895a5d29",
   "metadata": {},
   "outputs": [
    {
     "data": {
      "text/html": [
       "<div>\n",
       "<style scoped>\n",
       "    .dataframe tbody tr th:only-of-type {\n",
       "        vertical-align: middle;\n",
       "    }\n",
       "\n",
       "    .dataframe tbody tr th {\n",
       "        vertical-align: top;\n",
       "    }\n",
       "\n",
       "    .dataframe thead th {\n",
       "        text-align: right;\n",
       "    }\n",
       "</style>\n",
       "<table border=\"1\" class=\"dataframe\">\n",
       "  <thead>\n",
       "    <tr style=\"text-align: right;\">\n",
       "      <th></th>\n",
       "      <th>predicted</th>\n",
       "      <th>actual_returns</th>\n",
       "      <th>strategy_returns</th>\n",
       "    </tr>\n",
       "    <tr>\n",
       "      <th>date</th>\n",
       "      <th></th>\n",
       "      <th></th>\n",
       "      <th></th>\n",
       "    </tr>\n",
       "  </thead>\n",
       "  <tbody>\n",
       "    <tr>\n",
       "      <th>2015-07-02 15:15:00</th>\n",
       "      <td>1.0</td>\n",
       "      <td>-0.000828</td>\n",
       "      <td>-0.000828</td>\n",
       "    </tr>\n",
       "    <tr>\n",
       "      <th>2015-07-02 15:45:00</th>\n",
       "      <td>1.0</td>\n",
       "      <td>-0.000829</td>\n",
       "      <td>-0.000829</td>\n",
       "    </tr>\n",
       "    <tr>\n",
       "      <th>2015-07-06 10:00:00</th>\n",
       "      <td>1.0</td>\n",
       "      <td>-0.025715</td>\n",
       "      <td>-0.025715</td>\n",
       "    </tr>\n",
       "    <tr>\n",
       "      <th>2015-07-06 10:45:00</th>\n",
       "      <td>1.0</td>\n",
       "      <td>0.007237</td>\n",
       "      <td>0.007237</td>\n",
       "    </tr>\n",
       "    <tr>\n",
       "      <th>2015-07-06 14:15:00</th>\n",
       "      <td>1.0</td>\n",
       "      <td>-0.009721</td>\n",
       "      <td>-0.009721</td>\n",
       "    </tr>\n",
       "  </tbody>\n",
       "</table>\n",
       "</div>"
      ],
      "text/plain": [
       "                     predicted  actual_returns  strategy_returns\n",
       "date                                                            \n",
       "2015-07-02 15:15:00        1.0       -0.000828         -0.000828\n",
       "2015-07-02 15:45:00        1.0       -0.000829         -0.000829\n",
       "2015-07-06 10:00:00        1.0       -0.025715         -0.025715\n",
       "2015-07-06 10:45:00        1.0        0.007237          0.007237\n",
       "2015-07-06 14:15:00        1.0       -0.009721         -0.009721"
      ]
     },
     "execution_count": 147,
     "metadata": {},
     "output_type": "execute_result"
    }
   ],
   "source": [
    "# Create a new empty predictions DataFrame using code provided below.\n",
    "predictions_df = pd.DataFrame(index=X_test.index)\n",
    "predictions_df[\"predicted\"] = testing_signal_predictions\n",
    "predictions_df[\"actual_returns\"] = signals_df[\"actual_returns\"]\n",
    "predictions_df[\"strategy_returns\"] = predictions_df[\"actual_returns\"] * predictions_df[\"predicted\"]\n",
    "predictions_df.head()"
   ]
  },
  {
   "cell_type": "code",
   "execution_count": 148,
   "id": "11f80aff-3ef5-45c9-9a5e-8e48e2f531bd",
   "metadata": {},
   "outputs": [
    {
     "data": {
      "text/plain": [
       "<Axes: xlabel='date'>"
      ]
     },
     "execution_count": 148,
     "metadata": {},
     "output_type": "execute_result"
    },
    {
     "data": {
      "image/png": "[encoded data removed]",
      "text/plain": [
       "<Figure size 640x480 with 1 Axes>"
      ]
     },
     "metadata": {},
     "output_type": "display_data"
    }
   ],
   "source": [
    "# Calculate and plot the cumulative returns for the `actual_returns` and the `trading_algorithm_returns`\n",
    "(1 + predictions_df[[\"actual_returns\", \"strategy_returns\"]]).cumprod().plot()"
   ]
  },
  {
   "cell_type": "code",
   "execution_count": 149,
   "id": "45a02137-92df-4296-a748-6f7f548e3f11",
   "metadata": {},
   "outputs": [],
   "source": [
    "# Import LogisticRegression from sklearn\n",
    "from sklearn.linear_model import LogisticRegression"
   ]
  },
  {
   "cell_type": "code",
   "execution_count": 150,
   "id": "58a4930d-fa77-40a2-adb4-9b4150c9c534",
   "metadata": {},
   "outputs": [],
   "source": [
    "# Create an instance of the LogisticRegression model\n",
    "logistic_regression_model = LogisticRegression()"
   ]
  },
  {
   "cell_type": "code",
   "execution_count": 151,
   "id": "760d0381-3ff3-4f26-9da5-e0caf527a2c0",
   "metadata": {},
   "outputs": [
    {
     "data": {
      "text/html": [
       "<style>#sk-container-id-1 {color: black;background-color: white;}#sk-container-id-1 pre{padding: 0;}#sk-container-id-1 div.sk-toggleable {background-color: white;}#sk-container-id-1 label.sk-toggleable__label {cursor: pointer;display: block;width: 100%;margin-bottom: 0;padding: 0.3em;box-sizing: border-box;text-align: center;}#sk-container-id-1 label.sk-toggleable__label-arrow:before {content: \"▸\";float: left;margin-right: 0.25em;color: #696969;}#sk-container-id-1 label.sk-toggleable__label-arrow:hover:before {color: black;}#sk-container-id-1 div.sk-estimator:hover label.sk-toggleable__label-arrow:before {color: black;}#sk-container-id-1 div.sk-toggleable__content {max-height: 0;max-width: 0;overflow: hidden;text-align: left;background-color: #f0f8ff;}#sk-container-id-1 div.sk-toggleable__content pre {margin: 0.2em;color: black;border-radius: 0.25em;background-color: #f0f8ff;}#sk-container-id-1 input.sk-toggleable__control:checked~div.sk-toggleable__content {max-height: 200px;max-width: 100%;overflow: auto;}#sk-container-id-1 input.sk-toggleable__control:checked~label.sk-toggleable__label-arrow:before {content: \"▾\";}#sk-container-id-1 div.sk-estimator input.sk-toggleable__control:checked~label.sk-toggleable__label {background-color: #d4ebff;}#sk-container-id-1 div.sk-label input.sk-toggleable__control:checked~label.sk-toggleable__label {background-color: #d4ebff;}#sk-container-id-1 input.sk-hidden--visually {border: 0;clip: rect(1px 1px 1px 1px);clip: rect(1px, 1px, 1px, 1px);height: 1px;margin: -1px;overflow: hidden;padding: 0;position: absolute;width: 1px;}#sk-container-id-1 div.sk-estimator {font-family: monospace;background-color: #f0f8ff;border: 1px dotted black;border-radius: 0.25em;box-sizing: border-box;margin-bottom: 0.5em;}#sk-container-id-1 div.sk-estimator:hover {background-color: #d4ebff;}#sk-container-id-1 div.sk-parallel-item::after {content: \"\";width: 100%;border-bottom: 1px solid gray;flex-grow: 1;}#sk-container-id-1 div.sk-label:hover label.sk-toggleable__label {background-color: #d4ebff;}#sk-container-id-1 div.sk-serial::before {content: \"\";position: absolute;border-left: 1px solid gray;box-sizing: border-box;top: 0;bottom: 0;left: 50%;z-index: 0;}#sk-container-id-1 div.sk-serial {display: flex;flex-direction: column;align-items: center;background-color: white;padding-right: 0.2em;padding-left: 0.2em;position: relative;}#sk-container-id-1 div.sk-item {position: relative;z-index: 1;}#sk-container-id-1 div.sk-parallel {display: flex;align-items: stretch;justify-content: center;background-color: white;position: relative;}#sk-container-id-1 div.sk-item::before, #sk-container-id-1 div.sk-parallel-item::before {content: \"\";position: absolute;border-left: 1px solid gray;box-sizing: border-box;top: 0;bottom: 0;left: 50%;z-index: -1;}#sk-container-id-1 div.sk-parallel-item {display: flex;flex-direction: column;z-index: 1;position: relative;background-color: white;}#sk-container-id-1 div.sk-parallel-item:first-child::after {align-self: flex-end;width: 50%;}#sk-container-id-1 div.sk-parallel-item:last-child::after {align-self: flex-start;width: 50%;}#sk-container-id-1 div.sk-parallel-item:only-child::after {width: 0;}#sk-container-id-1 div.sk-dashed-wrapped {border: 1px dashed gray;margin: 0 0.4em 0.5em 0.4em;box-sizing: border-box;padding-bottom: 0.4em;background-color: white;}#sk-container-id-1 div.sk-label label {font-family: monospace;font-weight: bold;display: inline-block;line-height: 1.2em;}#sk-container-id-1 div.sk-label-container {text-align: center;}#sk-container-id-1 div.sk-container {/* jupyter's `normalize.less` sets `[hidden] { display: none; }` but bootstrap.min.css set `[hidden] { display: none !important; }` so we also need the `!important` here to be able to override the default hidden behavior on the sphinx rendered scikit-learn.org. See: https://github.com/scikit-learn/scikit-learn/issues/21755 */display: inline-block !important;position: relative;}#sk-container-id-1 div.sk-text-repr-fallback {display: none;}</style><div id=\"sk-container-id-1\" class=\"sk-top-container\"><div class=\"sk-text-repr-fallback\"><pre>LogisticRegression()</pre><b>In a Jupyter environment, please rerun this cell to show the HTML representation or trust the notebook. <br />On GitHub, the HTML representation is unable to render, please try loading this page with nbviewer.org.</b></div><div class=\"sk-container\" hidden><div class=\"sk-item\"><div class=\"sk-estimator sk-toggleable\"><input class=\"sk-toggleable__control sk-hidden--visually\" id=\"sk-estimator-id-1\" type=\"checkbox\" checked><label for=\"sk-estimator-id-1\" class=\"sk-toggleable__label sk-toggleable__label-arrow\">LogisticRegression</label><div class=\"sk-toggleable__content\"><pre>LogisticRegression()</pre></div></div></div></div></div>"
      ],
      "text/plain": [
       "LogisticRegression()"
      ]
     },
     "execution_count": 151,
     "metadata": {},
     "output_type": "execute_result"
    }
   ],
   "source": [
    "# Fit the LogisticRegression model\n",
    "logistic_regression_model.fit(X_train_scaled, y_train)"
   ]
  },
  {
   "cell_type": "code",
   "execution_count": 152,
   "id": "0f273f77-0deb-49e7-b225-122d142facb5",
   "metadata": {},
   "outputs": [
    {
     "data": {
      "text/plain": [
       "array([ 1.,  1.,  1.,  1.,  1.,  1.,  1.,  1.,  1.,  1.,  1.,  1.,  1.,\n",
       "        1.,  1.,  1.,  1.,  1.,  1.,  1.,  1.,  1.,  1.,  1.,  1.,  1.,\n",
       "        1.,  1.,  1.,  1.,  1.,  1.,  1.,  1.,  1.,  1.,  1.,  1.,  1.,\n",
       "        1.,  1.,  1.,  1.,  1.,  1.,  1.,  1.,  1.,  1.,  1.,  1.,  1.,\n",
       "        1.,  1.,  1.,  1.,  1.,  1.,  1.,  1.,  1.,  1.,  1.,  1., -1.,\n",
       "       -1.,  1.,  1.,  1.,  1.,  1.,  1.,  1., -1., -1., -1., -1.,  1.,\n",
       "        1.,  1.,  1.,  1.,  1.,  1.,  1.,  1.,  1.,  1.,  1.,  1.,  1.,\n",
       "        1.,  1.,  1.,  1.,  1.,  1.,  1.,  1.,  1.,  1.,  1.,  1.,  1.,\n",
       "        1.,  1.,  1.,  1.,  1.,  1.,  1.,  1.,  1.,  1.,  1.,  1.,  1.,\n",
       "        1.,  1.,  1.,  1.,  1.,  1.,  1.,  1.,  1.,  1.,  1.,  1.,  1.])"
      ]
     },
     "execution_count": 152,
     "metadata": {},
     "output_type": "execute_result"
    }
   ],
   "source": [
    "# Use the trained LogisticRegression model to predict the trading signals for the training data\n",
    "lr_training_signal_predictions = logistic_regression_model.predict(X_train_scaled)\n",
    "\n",
    "# Display the predictions\n",
    "lr_training_signal_predictions"
   ]
  },
  {
   "cell_type": "code",
   "execution_count": 153,
   "id": "a80fa60d-4f2b-4e46-9b46-9a3e93e7a5fb",
   "metadata": {},
   "outputs": [
    {
     "name": "stdout",
     "output_type": "stream",
     "text": [
      "              precision    recall  f1-score   support\n",
      "\n",
      "        -1.0       0.67      0.08      0.15        49\n",
      "         1.0       0.64      0.98      0.77        81\n",
      "\n",
      "    accuracy                           0.64       130\n",
      "   macro avg       0.65      0.53      0.46       130\n",
      "weighted avg       0.65      0.64      0.54       130\n",
      "\n"
     ]
    }
   ],
   "source": [
    "# Generate a classification report using the training data and the logistic regression model's predications\n",
    "lr_training_report = classification_report(y_train, lr_training_signal_predictions)\n",
    "\n",
    "# Review the classification report\n",
    "print(lr_training_report)"
   ]
  },
  {
   "cell_type": "code",
   "execution_count": 154,
   "id": "0efafb76-7ab1-4742-a622-a5806b57cac2",
   "metadata": {},
   "outputs": [],
   "source": [
    "# Use the trained model to predict the trading signals for the testing data.\n",
    "lr_testing_signal_predictions = logistic_regression_model.predict(X_test_scaled)"
   ]
  },
  {
   "cell_type": "code",
   "execution_count": 155,
   "id": "04931f57-7c99-4edf-9bd1-41f63ea0dd27",
   "metadata": {},
   "outputs": [
    {
     "name": "stdout",
     "output_type": "stream",
     "text": [
      "              precision    recall  f1-score   support\n",
      "\n",
      "        -1.0       0.44      0.33      0.37      1806\n",
      "         1.0       0.56      0.66      0.61      2288\n",
      "\n",
      "    accuracy                           0.52      4094\n",
      "   macro avg       0.50      0.50      0.49      4094\n",
      "weighted avg       0.50      0.52      0.50      4094\n",
      "\n"
     ]
    }
   ],
   "source": [
    "# Generate a classification report using the testing data and the logistic regression model's predictions\n",
    "lr_testing_report = classification_report(y_test, lr_testing_signal_predictions)\n",
    "\n",
    "# Review the testing classification report\n",
    "print(lr_testing_report)"
   ]
  },
  {
   "cell_type": "code",
   "execution_count": 156,
   "id": "c3f0156d-302e-449c-9da0-8d8cb485c2d9",
   "metadata": {},
   "outputs": [
    {
     "name": "stdout",
     "output_type": "stream",
     "text": [
      "Logistic Regression Classification Report\n",
      "              precision    recall  f1-score   support\n",
      "\n",
      "        -1.0       0.44      0.33      0.37      1806\n",
      "         1.0       0.56      0.66      0.61      2288\n",
      "\n",
      "    accuracy                           0.52      4094\n",
      "   macro avg       0.50      0.50      0.49      4094\n",
      "weighted avg       0.50      0.52      0.50      4094\n",
      "\n"
     ]
    }
   ],
   "source": [
    "# Print the classification report for the Logistic Regression model using the test data\n",
    "print(\"Logistic Regression Classification Report\")\n",
    "print(lr_testing_report)"
   ]
  },
  {
   "cell_type": "code",
   "execution_count": 157,
   "id": "fdee30bc-3cfe-4599-a8d7-13c9168f8035",
   "metadata": {},
   "outputs": [
    {
     "name": "stdout",
     "output_type": "stream",
     "text": [
      "SVM Classification Report\n",
      "              precision    recall  f1-score   support\n",
      "\n",
      "        -1.0       0.00      0.00      0.00      1806\n",
      "         1.0       0.56      1.00      0.72      2288\n",
      "\n",
      "    accuracy                           0.56      4094\n",
      "   macro avg       0.28      0.50      0.36      4094\n",
      "weighted avg       0.31      0.56      0.40      4094\n",
      "\n"
     ]
    }
   ],
   "source": [
    "# Print the classification report for the SVM model using the test data\n",
    "print(\"SVM Classification Report\")\n",
    "print(svm_testing_report)"
   ]
  },
  {
   "cell_type": "code",
   "execution_count": null,
   "id": "63e975ee-e222-49c9-8ce2-03982ca8b44b",
   "metadata": {},
   "outputs": [],
   "source": [
    "#conclusion: the SVM model fit better because the accuracy is higher 0.56 than fron the logistic regression model which is low 0.52 in other hand the SVM model has the lowest recall score in -1.0.lastly the best model will depend on the objective of the predicting or a overal long term investissment "
   ]
  }
 ],
 "metadata": {
  "kernelspec": {
   "display_name": "Python 3 (ipykernel)",
   "language": "python",
   "name": "python3"
  },
  "language_info": {
   "codemirror_mode": {
    "name": "ipython",
    "version": 3
   },
   "file_extension": ".py",
   "mimetype": "text/x-python",
   "name": "python",
   "nbconvert_exporter": "python",
   "pygments_lexer": "ipython3",
   "version": "3.10.11"
  }
 },
 "nbformat": 4,
 "nbformat_minor": 5
}
